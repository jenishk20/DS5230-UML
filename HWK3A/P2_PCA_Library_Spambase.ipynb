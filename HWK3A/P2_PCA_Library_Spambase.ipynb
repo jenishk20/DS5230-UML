{
 "cells": [
  {
   "cell_type": "code",
   "execution_count": 4,
   "metadata": {},
   "outputs": [],
   "source": [
    "import numpy as np\n",
    "import matplotlib.pyplot as plt\n",
    "from sklearn.decomposition import PCA\n",
    "from sklearn.datasets import fetch_openml\n",
    "from sklearn.model_selection import train_test_split\n",
    "from sklearn.ensemble import RandomForestClassifier\n",
    "from sklearn.metrics import accuracy_score\n",
    "from sklearn.preprocessing import StandardScaler\n",
    "from sklearn.tree import DecisionTreeClassifier\n"
   ]
  },
  {
   "cell_type": "code",
   "execution_count": 5,
   "metadata": {},
   "outputs": [
    {
     "name": "stdout",
     "output_type": "stream",
     "text": [
      "Training set size:  (3680, 57)\n",
      "Test set size:  (921, 57)\n"
     ]
    }
   ],
   "source": [
    "spambase = fetch_openml(\"spambase\", version=1)\n",
    "X_spam, y_spam = spambase.data, spambase.target.astype(int)\n",
    "\n",
    "scaler = StandardScaler()\n",
    "X_spam = scaler.fit_transform(X_spam)\n",
    "\n",
    "X_train_spam, X_test_spam, y_train_spam, y_test_spam = train_test_split(X_spam, y_spam, test_size=0.2, random_state=42)\n",
    "\n",
    "print(\"Training set size: \", X_train_spam.shape)\n",
    "print(\"Test set size: \", X_test_spam.shape)\n",
    "\n"
   ]
  },
  {
   "cell_type": "code",
   "execution_count": 6,
   "metadata": {},
   "outputs": [
    {
     "name": "stdout",
     "output_type": "stream",
     "text": [
      "Baseline Accuracy (Without PCA): 0.9175\n"
     ]
    }
   ],
   "source": [
    "clfWithoutPCA = DecisionTreeClassifier(random_state=42)\n",
    "clfWithoutPCA.fit(X_train_spam, y_train_spam)\n",
    "y_pred_spam_baseline = clfWithoutPCA.predict(X_test_spam)\n",
    "acc_spam_baseline = accuracy_score(y_test_spam, y_pred_spam_baseline)\n",
    "print(f\"Baseline Accuracy (Without PCA): {acc_spam_baseline:.4f}\")\n"
   ]
  },
  {
   "cell_type": "code",
   "execution_count": 9,
   "metadata": {},
   "outputs": [
    {
     "name": "stdout",
     "output_type": "stream",
     "text": [
      "Accuracy with D=5: 0.8664\n",
      "Accuracy with D=10: 0.8849\n",
      "Accuracy with D=15: 0.8882\n",
      "Comparable test accuracy achieved with D=15\n"
     ]
    }
   ],
   "source": [
    "for dimensions in range(5, 58, 5):\n",
    "    pcaObj = PCA(n_components=dimensions)\n",
    "    X_train_pca_spam = pcaObj.fit_transform(X_train_spam)\n",
    "    X_test_pca_spam = pcaObj.transform(X_test_spam)\n",
    "\n",
    "    clfWithPCA = DecisionTreeClassifier(random_state=42)\n",
    "    clfWithPCA.fit(X_train_pca_spam, y_train_spam)\n",
    "    yPredSpam = clfWithPCA.predict(X_test_pca_spam)\n",
    "    accSpam = accuracy_score(y_test_spam, yPredSpam)\n",
    "    \n",
    "    print(f\"Accuracy with D={dimensions}: {accSpam:.4f}\")\n",
    "\n",
    "    if accSpam >= acc_spam_baseline - 0.03:\n",
    "        print(f\"Comparable test accuracy achieved with D={dimensions}\")\n",
    "        break\n"
   ]
  },
  {
   "cell_type": "markdown",
   "metadata": {},
   "source": [
    "## Analysis\n"
   ]
  },
  {
   "cell_type": "markdown",
   "metadata": {},
   "source": [
    "- We get a PCA accuracy closest to the baseline accuracy when the number of features are reduced to 15."
   ]
  },
  {
   "cell_type": "markdown",
   "metadata": {},
   "source": []
  }
 ],
 "metadata": {
  "kernelspec": {
   "display_name": "myenv",
   "language": "python",
   "name": "python3"
  },
  "language_info": {
   "codemirror_mode": {
    "name": "ipython",
    "version": 3
   },
   "file_extension": ".py",
   "mimetype": "text/x-python",
   "name": "python",
   "nbconvert_exporter": "python",
   "pygments_lexer": "ipython3",
   "version": "3.13.1"
  }
 },
 "nbformat": 4,
 "nbformat_minor": 2
}
