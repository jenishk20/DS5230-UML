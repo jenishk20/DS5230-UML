{
 "cells": [
  {
   "cell_type": "code",
   "execution_count": null,
   "metadata": {},
   "outputs": [
    {
     "name": "stdout",
     "output_type": "stream",
     "text": [
      "\n",
      "### Dataset: mnist_784 ###\n",
      "\n",
      "Running Logistic Regression on mnist_784...\n"
     ]
    }
   ],
   "source": [
    "\n",
    "\n",
    "\n",
    "# Helper function to print top 30 features\n",
    "def print_top_features(model, feature_names, top_n=30):\n",
    "    if hasattr(model, 'coef_'):\n",
    "        # For Logistic Regression\n",
    "        coef = model.coef_[0]\n",
    "        top_features = np.argsort(np.abs(coef))[-top_n:][::-1]\n",
    "        print(\"Top 30 Features:\")\n",
    "        for i in top_features:\n",
    "            print(f\"{feature_names[i]}: {coef[i]}\")\n",
    "    elif hasattr(model, 'feature_importances_'):\n",
    "        # For Decision Trees\n",
    "        importances = model.feature_importances_\n",
    "        top_features = np.argsort(importances)[-top_n:][::-1]\n",
    "        print(\"Top 30 Features:\")\n",
    "        for i in top_features:\n",
    "            print(f\"{feature_names[i]}: {importances[i]}\")\n",
    "\n",
    "\n",
    "# Function to train and evaluate a model\n",
    "def train_and_evaluate(model, X_train, X_test, y_train, y_test, feature_names):\n",
    "    model.fit(X_train, y_train)\n",
    "    y_pred = model.predict(X_test)\n",
    "    accuracy = accuracy_score(y_test, y_pred)\n",
    "    print(\"Accuracy:\", accuracy)\n",
    "    print(\"Classification Report:\")\n",
    "    print(classification_report(y_test, y_pred))\n",
    "    print_top_features(model, feature_names)\n",
    "\n",
    "\n",
    "# Datasets and Models\n",
    "datasets = [\"mnist_784\", \"Spambase\", \"20newsgroups\"]\n",
    "models = [\n",
    "    (\"Logistic Regression\", LogisticRegression(penalty='l2', solver='liblinear', max_iter=1000)),\n",
    "    (\"Decision Tree\", DecisionTreeClassifier())\n",
    "]\n",
    "\n",
    "# Run classification for each dataset and model\n",
    "for dataset_name in datasets:\n",
    "    print(f\"\\n### Dataset: {dataset_name} ###\")\n",
    "    if dataset_name == \"mnist_784\":\n",
    "        data = fetch_openml(\"mnist_784\", version=1)\n",
    "        X, y = data.data, data.target.astype(int)\n",
    "        feature_names = [f\"pixel_{i}\" for i in range(X.shape[1])]\n",
    "    elif dataset_name == \"Spambase\":\n",
    "        data = fetch_openml(\"spambase\", version=1)\n",
    "        X, y = data.data, data.target.astype(int)\n",
    "        feature_names = data.feature_names\n",
    "    elif dataset_name == \"20newsgroups\":\n",
    "        from sklearn.datasets import fetch_20newsgroups\n",
    "        newsgroups = fetch_20newsgroups(subset='all')\n",
    "        vectorizer = TfidfVectorizer(max_features=5000)\n",
    "        X = vectorizer.fit_transform(newsgroups.data)\n",
    "        y = newsgroups.target\n",
    "        feature_names = vectorizer.get_feature_names_out()\n",
    "\n",
    "    X_train, X_test, y_train, y_test = train_test_split(X, y, test_size=0.3, random_state=42)\n",
    "\n",
    "    for model_name, model in models:\n",
    "        print(f\"\\nRunning {model_name} on {dataset_name}...\")\n",
    "        train_and_evaluate(model, X_train, X_test, y_train, y_test, feature_names)\n",
    "\n",
    "        # Extra for Decision Tree on 20NG: Different Tree Sizes\n",
    "        if dataset_name == \"20newsgroups\" and model_name == \"Decision Tree\":\n",
    "            for max_depth in [5, 10]:\n",
    "                print(f\"\\nDecision Tree with max_depth={max_depth} on {dataset_name}...\")\n",
    "                model = DecisionTreeClassifier(max_depth=max_depth)\n",
    "                train_and_evaluate(model, X_train, X_test, y_train, y_test, feature_names)\n"
   ]
  }
 ],
 "metadata": {
  "kernelspec": {
   "display_name": "myenv",
   "language": "python",
   "name": "python3"
  },
  "language_info": {
   "codemirror_mode": {
    "name": "ipython",
    "version": 3
   },
   "file_extension": ".py",
   "mimetype": "text/x-python",
   "name": "python",
   "nbconvert_exporter": "python",
   "pygments_lexer": "ipython3",
   "version": "3.13.1"
  }
 },
 "nbformat": 4,
 "nbformat_minor": 2
}
