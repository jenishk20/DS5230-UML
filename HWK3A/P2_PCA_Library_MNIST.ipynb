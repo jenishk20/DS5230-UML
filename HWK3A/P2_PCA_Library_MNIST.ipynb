{
 "cells": [
  {
   "cell_type": "code",
   "execution_count": 15,
   "metadata": {},
   "outputs": [],
   "source": [
    "import numpy as np\n",
    "import matplotlib.pyplot as plt\n",
    "from sklearn.decomposition import PCA\n",
    "from sklearn.datasets import fetch_openml\n",
    "from sklearn.model_selection import train_test_split\n",
    "from sklearn.ensemble import RandomForestClassifier\n",
    "from sklearn.tree import DecisionTreeClassifier\n",
    "from sklearn.metrics import accuracy_score\n",
    "from sklearn.preprocessing import StandardScaler\n",
    "from sklearn.linear_model import LogisticRegression\n"
   ]
  },
  {
   "cell_type": "code",
   "execution_count": 16,
   "metadata": {},
   "outputs": [
    {
     "name": "stdout",
     "output_type": "stream",
     "text": [
      "Training Shape:  (56000, 784)\n",
      "Testing Shape:  (14000, 784)\n"
     ]
    }
   ],
   "source": [
    "mnist = fetch_openml('mnist_784', version=1)\n",
    "X, y = mnist.data, mnist.target.astype(int) \n",
    "\n",
    "X = X / 255.0\n",
    "\n",
    "X = X - np.mean(X, axis=0)\n",
    "\n",
    "X_train, X_test, y_train, y_test = train_test_split(X, y, test_size=0.2, random_state=42)\n",
    "\n",
    "print(\"Training Shape: \", X_train.shape)\n",
    "print(\"Testing Shape: \", X_test.shape)\n"
   ]
  },
  {
   "cell_type": "code",
   "execution_count": 17,
   "metadata": {},
   "outputs": [
    {
     "name": "stdout",
     "output_type": "stream",
     "text": [
      "Reduced shape (D=5): (56000, 5)\n",
      "Reduced shape (D=20): (56000, 20)\n"
     ]
    }
   ],
   "source": [
    "pca_5 = PCA(n_components=5)\n",
    "X_train_pca_5 = pca_5.fit_transform(X_train)\n",
    "X_test_pca_5 = pca_5.transform(X_test)\n",
    "\n",
    "pca_20 = PCA(n_components=20)\n",
    "X_train_pca_20 = pca_20.fit_transform(X_train)\n",
    "X_test_pca_20 = pca_20.transform(X_test)\n",
    "\n",
    "print(\"Reduced shape (D=5):\", X_train_pca_5.shape) \n",
    "print(\"Reduced shape (D=20):\", X_train_pca_20.shape)\n"
   ]
  },
  {
   "cell_type": "code",
   "execution_count": 18,
   "metadata": {},
   "outputs": [
    {
     "name": "stdout",
     "output_type": "stream",
     "text": [
      "Baseline Accuracy (Without PCA) Decision Tree: 0.8704\n"
     ]
    }
   ],
   "source": [
    "clfWithoutPCA = DecisionTreeClassifier(random_state=42)\n",
    "clfWithoutPCA.fit(X_train, y_train)\n",
    "y_pred_baseline = clfWithoutPCA.predict(X_test)\n",
    "acc_baseline = accuracy_score(y_test, y_pred_baseline)\n",
    "print(f\"Baseline Accuracy (Without PCA) Decision Tree: {acc_baseline:.4f}\")\n"
   ]
  },
  {
   "cell_type": "code",
   "execution_count": 19,
   "metadata": {},
   "outputs": [
    {
     "name": "stdout",
     "output_type": "stream",
     "text": [
      "Baseline Accuracy (Without PCA) Logistic Regression: 0.9191\n"
     ]
    }
   ],
   "source": [
    "clfWithoutPCALogistic = LogisticRegression(random_state=42)\n",
    "clfWithoutPCALogistic.fit(X_train, y_train)\n",
    "y_pred_baseline_logistic = clfWithoutPCALogistic.predict(X_test)\n",
    "acc_baseline_logistic = accuracy_score(y_test, y_pred_baseline_logistic)\n",
    "print(f\"Baseline Accuracy (Without PCA) Logistic Regression: {acc_baseline_logistic:.4f}\")\n"
   ]
  },
  {
   "cell_type": "code",
   "execution_count": null,
   "metadata": {},
   "outputs": [
    {
     "name": "stdout",
     "output_type": "stream",
     "text": [
      "Accuracy with D=5: 0.6663\n",
      "Accuracy with D=20: 0.8496\n"
     ]
    }
   ],
   "source": [
    "clfWith5Features = DecisionTreeClassifier(random_state=42)\n",
    "clfWith5Features.fit(X_train_pca_5, y_train)\n",
    "yPred5 = clfWith5Features.predict(X_test_pca_5)\n",
    "acc5 = accuracy_score(y_test, yPred5)\n",
    "print(f\"Accuracy with D=5: {acc5:.4f}\")\n",
    "\n",
    "clfWith20Features = DecisionTreeClassifier(random_state=42)\n",
    "clfWith20Features.fit(X_train_pca_20, y_train)\n",
    "yPred20 = clfWith20Features.predict(X_test_pca_20)\n",
    "acc20 = accuracy_score(y_test, yPred20)\n",
    "print(f\"Accuracy with D=20 Decision Tree: {acc20:.4f}\")\n"
   ]
  },
  {
   "cell_type": "code",
   "execution_count": 20,
   "metadata": {},
   "outputs": [
    {
     "name": "stdout",
     "output_type": "stream",
     "text": [
      "Accuracy with D=5 Logistic Regression: 0.6795\n",
      "Accuracy with D=20 Logistic Regression: 0.8785\n"
     ]
    }
   ],
   "source": [
    "clfWith5FeaturesLogistic = LogisticRegression(random_state=42)\n",
    "clfWith5FeaturesLogistic.fit(X_train_pca_5, y_train)\n",
    "yPred5Logistic = clfWith5FeaturesLogistic.predict(X_test_pca_5)\n",
    "acc5Logistic = accuracy_score(y_test, yPred5Logistic)\n",
    "print(f\"Accuracy with D=5 Logistic Regression: {acc5Logistic:.4f}\")\n",
    "\n",
    "clfWith20FeaturesLogistic = LogisticRegression(random_state=42)\n",
    "clfWith20FeaturesLogistic.fit(X_train_pca_20, y_train)\n",
    "yPred20Logistic = clfWith20FeaturesLogistic.predict(X_test_pca_20)\n",
    "acc20Logistic = accuracy_score(y_test, yPred20Logistic)\n",
    "print(f\"Accuracy with D=20 Logistic Regression: {acc20Logistic:.4f}\")"
   ]
  }
 ],
 "metadata": {
  "kernelspec": {
   "display_name": "myenv",
   "language": "python",
   "name": "python3"
  },
  "language_info": {
   "codemirror_mode": {
    "name": "ipython",
    "version": 3
   },
   "file_extension": ".py",
   "mimetype": "text/x-python",
   "name": "python",
   "nbconvert_exporter": "python",
   "pygments_lexer": "ipython3",
   "version": "3.13.1"
  }
 },
 "nbformat": 4,
 "nbformat_minor": 2
}
