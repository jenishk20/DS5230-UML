{
 "cells": [
  {
   "cell_type": "code",
   "execution_count": 5,
   "metadata": {},
   "outputs": [],
   "source": [
    "import random\n",
    "\n",
    "def sample_uniform(min_val, max_val, sample_size):\n",
    "    samples = []\n",
    "    for _ in range(sample_size):\n",
    "        u = random.random()  # uniform(0,1)\n",
    "        x = min_val + (max_val - min_val) * u\n",
    "        samples.append(x)\n",
    "    return samples\n"
   ]
  },
  {
   "cell_type": "code",
   "execution_count": 6,
   "metadata": {},
   "outputs": [],
   "source": [
    "import math\n",
    "\n",
    "def sample_gaussian(mu, sigma, sample_size):\n",
    "    samples = []\n",
    "    while len(samples) < sample_size:\n",
    "        u1 = random.random()\n",
    "        u2 = random.random()\n",
    "        z1 = math.sqrt(-2 * math.log(u1)) * math.cos(2 * math.pi * u2)\n",
    "        z2 = math.sqrt(-2 * math.log(u1)) * math.sin(2 * math.pi * u2)\n",
    "        samples.append(mu + sigma * z1)\n",
    "        if len(samples) < sample_size:\n",
    "            samples.append(mu + sigma * z2)\n",
    "    return samples\n"
   ]
  },
  {
   "cell_type": "code",
   "execution_count": 7,
   "metadata": {},
   "outputs": [],
   "source": [
    "def sample_2d_gaussian(mu, sigma, sample_size):\n",
    "    samples = []\n",
    "    for _ in range(sample_size):\n",
    "        x = sample_gaussian(mu[0], sigma[0], 1)[0]\n",
    "        y = sample_gaussian(mu[1], sigma[1], 1)[0]\n",
    "        samples.append((x, y))\n",
    "    return samples\n"
   ]
  },
  {
   "cell_type": "code",
   "execution_count": 8,
   "metadata": {},
   "outputs": [],
   "source": [
    "def stevens_sampling(items, weights, sample_size):\n",
    "    assert len(items) == len(weights)\n",
    "    keys = []\n",
    "    for item, w in zip(items, weights):\n",
    "        u = random.random()\n",
    "        k = u ** (1.0 / w)\n",
    "        keys.append((k, item))\n",
    "    # Select top N items based on key\n",
    "    keys.sort(reverse=True)\n",
    "    selected_items = [item for _, item in keys[:sample_size]]\n",
    "    return selected_items\n"
   ]
  },
  {
   "cell_type": "code",
   "execution_count": 9,
   "metadata": {},
   "outputs": [
    {
     "name": "stdout",
     "output_type": "stream",
     "text": [
      "[17.48325400317535, 16.49797594927895, 15.182291246048564, 11.326110157607756, 12.25628332776714]\n",
      "[-1.0235366033841682, 0.18971875971928462, 1.260848365114629, 0.16172783112917727, 0.03457037189688147]\n",
      "[(0.07769091721421109, 0.3733029369737425), (0.27658888805911375, -1.659720833086708), (-1.0078695178228285, 0.7793678718755676), (-0.04635098141066284, -0.8510095484669852), (0.689519468226021, -1.8540012057627433)]\n",
      "[126, 229, 4, 194, 266, 64, 210, 258, 201, 84, 293, 206, 163, 23, 252, 26, 254, 133, 83, 234]\n"
     ]
    }
   ],
   "source": [
    "# A. Uniform\n",
    "print(sample_uniform(10, 20, 5))\n",
    "\n",
    "# A. Gaussian\n",
    "print(sample_gaussian(0, 1, 5))\n",
    "\n",
    "# B. 2D Gaussian\n",
    "print(sample_2d_gaussian([0, 0], [1, 1], 5))\n",
    "\n",
    "# C. Stevens method\n",
    "population = list(range(1, 301))  # M = 300\n",
    "weights = [random.uniform(0.5, 2.0) for _ in range(300)]\n",
    "sampled = stevens_sampling(population, weights, 20)\n",
    "print(sampled)\n"
   ]
  },
  {
   "cell_type": "code",
   "execution_count": null,
   "metadata": {},
   "outputs": [],
   "source": []
  }
 ],
 "metadata": {
  "kernelspec": {
   "display_name": "myenv",
   "language": "python",
   "name": "python3"
  },
  "language_info": {
   "codemirror_mode": {
    "name": "ipython",
    "version": 3
   },
   "file_extension": ".py",
   "mimetype": "text/x-python",
   "name": "python",
   "nbconvert_exporter": "python",
   "pygments_lexer": "ipython3",
   "version": "3.13.2"
  }
 },
 "nbformat": 4,
 "nbformat_minor": 2
}
