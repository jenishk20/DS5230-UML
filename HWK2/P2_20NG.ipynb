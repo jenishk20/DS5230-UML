{
 "cells": [
  {
   "cell_type": "code",
   "execution_count": 14,
   "id": "f848370c-2e03-4498-9af3-6f77094a5326",
   "metadata": {},
   "outputs": [],
   "source": [
    "import pandas as pd\n",
    "import matplotlib.pyplot as plt\n",
    "import numpy as np\n",
    "import seaborn as sns\n",
    "from sklearn.model_selection import train_test_split\n",
    "from sklearn.datasets import fetch_20newsgroups\n",
    "from collections import Counter\n",
    "from sklearn.feature_extraction.text import TfidfVectorizer\n"
   ]
  },
  {
   "cell_type": "code",
   "execution_count": null,
   "id": "c63a9e6b-fe3b-4e23-af42-bac2bdf148fd",
   "metadata": {},
   "outputs": [],
   "source": [
    "class KMeans:\n",
    "    def __init__(self,K,max_iter = 100,diff = 1e-4):\n",
    "        self.k = K\n",
    "        self.max_iter = max_iter\n",
    "        self.diff = diff\n",
    "        self.centroids = None\n",
    "\n",
    "    def centroids_init(self,X):\n",
    "        self.centroids = X[np.random.choice(X.shape[0],self.k,replace=False)]\n",
    "    \n",
    "    def compute_distances(self, X, centroids):\n",
    "        return np.linalg.norm(X[:, np.newaxis] - centroids, axis=2)\n",
    "\n",
    "    def assign_cluster(self,X):\n",
    "        distances = self.compute_distances(X,self.centroids)\n",
    "        cluster = np.argmin(distances,axis=1)\n",
    "        return cluster\n",
    "    \n",
    "    def update_centroids(self,X,labels):\n",
    "        new_centroids = np.array([X[labels == i].mean(axis=0) for i in range(self.k)])\n",
    "        return new_centroids\n",
    "\n",
    "    def compute_objective(self, X, labels):\n",
    "        distances = np.linalg.norm(X - self.centroids[labels], axis=1)\n",
    "        return np.sum(distances**2)\n",
    "    \n",
    "    def fit(self, X):\n",
    "        self.centroids_init(X)\n",
    "        for i in range(self.max_iter):\n",
    "            cluster_assignments = self.assign_cluster(X)\n",
    "            new_centroids = self.update_centroids(X, cluster_assignments)\n",
    "            if np.all(np.abs(new_centroids - self.centroids) < self.diff):\n",
    "                print(f\"Converged after {i+1} iterations.\")\n",
    "                break\n",
    "            \n",
    "            self.centroids = new_centroids\n",
    "        return cluster_assignments, self.centroids\n"
   ]
  },
  {
   "cell_type": "code",
   "execution_count": 15,
   "id": "6df79555-f35c-4475-8fb6-d36aaceb4cc1",
   "metadata": {},
   "outputs": [],
   "source": [
    "def evaluate_objective(X, y, K_values):\n",
    "    for K in K_values:\n",
    "        print(f\"\\nEvaluating for K = {K}\")\n",
    "        kmeans = KMeans(K=K)\n",
    "        cluster_assignments, centroids = kmeans.fit(X)\n",
    "        objective = kmeans.compute_objective(X, cluster_assignments)\n",
    "        print(f\"KMeans Objective Function Value: {objective:.4f}\")\n",
    "        \n",
    "\n",
    "def compute_purity(y_true, cluster_assignments, K):\n",
    "    cluster_to_label = {}\n",
    "    for cluster in range(K):\n",
    "        indices = np.where(cluster_assignments == cluster)[0]\n",
    "        cluster_labels = y_true[indices]\n",
    "        if len(cluster_labels) > 0:\n",
    "            most_common_label = Counter(cluster_labels).most_common(1)[0][0]\n",
    "            cluster_to_label[cluster] = most_common_label\n",
    "    \n",
    "    y_pred = np.array([cluster_to_label[c] for c in cluster_assignments])\n",
    "    accuracy = np.mean(y_pred == y_true)\n",
    "    return accuracy\n",
    "\n",
    "def compute_gini_index(y_true, cluster_assignments, K):\n",
    "    total_samples = len(y_true)\n",
    "    gini_total = 0\n",
    "\n",
    "    for cluster in range(K):\n",
    "        indices = np.where(cluster_assignments == cluster)[0]\n",
    "        cluster_labels = y_true[indices]\n",
    "        if len(cluster_labels) == 0:\n",
    "            continue\n",
    "        \n",
    "        label_counts = Counter(cluster_labels)\n",
    "        cluster_size = len(cluster_labels)\n",
    "        gini = 1 - sum((count / cluster_size) ** 2 for count in label_counts.values())\n",
    "        gini_total += (cluster_size / total_samples) * gini\n",
    "    \n",
    "    return gini_total\n"
   ]
  },
  {
   "cell_type": "code",
   "execution_count": 10,
   "id": "f79973e4-533c-43e9-90a5-f78a94138fa1",
   "metadata": {},
   "outputs": [
    {
     "name": "stdout",
     "output_type": "stream",
     "text": [
      "Training Data Shape: (15076, 5000), Training Labels Shape: (15076,)\n",
      "Test Data Shape: (3770, 5000), Test Labels Shape: (3770,)\n"
     ]
    }
   ],
   "source": [
    "categories = None\n",
    "newsgroups = fetch_20newsgroups(subset='all', categories=categories, remove=('headers', 'footers', 'quotes'))\n",
    "\n",
    "X_texts = newsgroups.data \n",
    "y_labels = newsgroups.target\n",
    "\n",
    "\n",
    "tfidf_vectorizer = TfidfVectorizer(stop_words='english', max_features=5000)\n",
    "X_tfidf = tfidf_vectorizer.fit_transform(X_texts)\n",
    "\n",
    "X_train, X_test, y_train, y_test = train_test_split(\n",
    "    X_tfidf, y_labels, test_size=0.2, random_state=42, stratify=y_labels\n",
    ")\n",
    "\n",
    "X_train_dense = X_train.toarray()\n",
    "X_test_dense = X_test.toarray()\n",
    "\n",
    "print(f\"Training Data Shape: {X_train.shape}, Training Labels Shape: {y_train.shape}\")\n",
    "print(f\"Test Data Shape: {X_test.shape}, Test Labels Shape: {y_test.shape}\")\n"
   ]
  },
  {
   "cell_type": "code",
   "execution_count": 11,
   "id": "68d1d3f0-fb37-4283-a89d-4d930d5fd380",
   "metadata": {},
   "outputs": [
    {
     "name": "stdout",
     "output_type": "stream",
     "text": [
      "\n",
      "Evaluating for K = 10\n",
      "Converged after 34 iterations.\n",
      "KMeans Objective Function Value: 14151.3803\n",
      "\n",
      "Evaluating for K = 5\n",
      "Converged after 39 iterations.\n",
      "KMeans Objective Function Value: 14262.3983\n",
      "\n",
      "Evaluating for K = 20\n"
     ]
    },
    {
     "name": "stderr",
     "output_type": "stream",
     "text": [
      "/tmp/ipykernel_45654/3664018627.py:21: RuntimeWarning: Mean of empty slice.\n",
      "  new_centroids = np.array([X[labels == i].mean(axis=0) for i in range(self.k)])\n",
      "/shared/centos7/anaconda3/2022.05/lib/python3.9/site-packages/numpy/core/_methods.py:181: RuntimeWarning: invalid value encountered in true_divide\n",
      "  ret = um.true_divide(\n"
     ]
    },
    {
     "name": "stdout",
     "output_type": "stream",
     "text": [
      "KMeans Objective Function Value: 14414.4079\n"
     ]
    }
   ],
   "source": [
    "K_values = [10, 5, 20]\n",
    "evaluate_objective(X_train_dense, y_train, K_values)"
   ]
  },
  {
   "cell_type": "code",
   "execution_count": 16,
   "id": "a66bb06f-def5-47b6-94ba-50fb99ec9651",
   "metadata": {},
   "outputs": [
    {
     "name": "stdout",
     "output_type": "stream",
     "text": [
      "\n",
      "Evaluating Purity and Gini Index for K = 10\n",
      "Converged after 18 iterations.\n",
      "Purity Score: 0.0706\n",
      "Gini Index: 0.9369\n",
      "\n",
      "Evaluating Purity and Gini Index for K = 5\n",
      "Converged after 32 iterations.\n",
      "Purity Score: 0.1596\n",
      "Gini Index: 0.8909\n",
      "\n",
      "Evaluating Purity and Gini Index for K = 20\n",
      "Converged after 38 iterations.\n",
      "Purity Score: 0.0990\n",
      "Gini Index: 0.9196\n"
     ]
    }
   ],
   "source": [
    "\n",
    "for K in K_values:\n",
    "    print(f\"\\nEvaluating Purity and Gini Index for K = {K}\")\n",
    "    kmeans = KMeans(K=K)\n",
    "    cluster_assignments, centroids = kmeans.fit(X_train_dense)\n",
    "    purity = compute_purity(y_train, cluster_assignments, K)\n",
    "    gini_index = compute_gini_index(y_train, cluster_assignments, K)\n",
    "\n",
    "    print(f\"Purity Score: {purity:.4f}\")\n",
    "    print(f\"Gini Index: {gini_index:.4f}\")"
   ]
  },
  {
   "cell_type": "code",
   "execution_count": null,
   "id": "19a12090-6f62-4ede-81f7-49afa276464d",
   "metadata": {},
   "outputs": [
    {
     "name": "stdout",
     "output_type": "stream",
     "text": [
      "\n",
      "Evaluating Purity and Gini Index for K = 10\n",
      "Purity Score: 0.2544\n",
      "Gini Index: 0.8216\n",
      "\n",
      "Evaluating Purity and Gini Index for K = 5\n",
      "Purity Score: 0.1764\n",
      "Gini Index: 0.8762\n",
      "\n",
      "Evaluating Purity and Gini Index for K = 20\n",
      "Purity Score: 0.3358\n",
      "Gini Index: 0.7540\n"
     ]
    }
   ],
   "source": [
    "from sklearn.cluster import KMeans\n",
    "for K in K_values:\n",
    "    print(f\"\\nEvaluating Purity and Gini Index for K = {K}\")\n",
    "\n",
    "    kmeans = KMeans(n_clusters=K, random_state=42, n_init=10, max_iter=300)\n",
    "    cluster_assignments = kmeans.fit_predict(X_train)\n",
    "\n",
    "    purity = compute_purity(y_train, cluster_assignments, K)\n",
    "    gini_index = compute_gini_index(y_train, cluster_assignments, K)\n",
    "\n",
    "    print(f\"Purity Score: {purity:.4f}\")\n",
    "    print(f\"Gini Index: {gini_index:.4f}\")"
   ]
  },
  {
   "cell_type": "code",
   "execution_count": null,
   "id": "7ce37aed-c38d-4781-827f-913f3b5109a8",
   "metadata": {},
   "outputs": [],
   "source": []
  }
 ],
 "metadata": {
  "kernelspec": {
   "display_name": "Python 3 (ipykernel)",
   "language": "python",
   "name": "python3"
  },
  "language_info": {
   "codemirror_mode": {
    "name": "ipython",
    "version": 3
   },
   "file_extension": ".py",
   "mimetype": "text/x-python",
   "name": "python",
   "nbconvert_exporter": "python",
   "pygments_lexer": "ipython3",
   "version": "3.9.12"
  }
 },
 "nbformat": 4,
 "nbformat_minor": 5
}
