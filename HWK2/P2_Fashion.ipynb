{
 "cells": [
  {
   "cell_type": "code",
   "execution_count": 1,
   "id": "a2be182a-f64e-4b14-b8ac-a87f032f5ad4",
   "metadata": {},
   "outputs": [],
   "source": [
    "import pandas as pd\n",
    "import matplotlib.pyplot as plt\n",
    "import numpy as np\n",
    "import seaborn as sns\n",
    "from sklearn.model_selection import train_test_split\n",
    "from sklearn.datasets import fetch_20newsgroups\n",
    "from collections import Counter\n",
    "from sklearn.feature_extraction.text import TfidfVectorizer\n",
    "from sklearn.datasets import fetch_openml\n",
    "from collections import Counter"
   ]
  },
  {
   "cell_type": "code",
   "execution_count": 13,
   "id": "ca212b81-ba96-47e8-9050-a96d4932cd3e",
   "metadata": {},
   "outputs": [],
   "source": [
    "class KMeansCustom:\n",
    "    \n",
    "    def __init__(self,K,max_iter = 100,diff = 1e-4):\n",
    "        self.k = K\n",
    "        self.max_iter = max_iter\n",
    "        self.diff = diff\n",
    "        self.centroids = None\n",
    "\n",
    "    def centroids_init(self,X):\n",
    "        self.centroids = X[np.random.choice(X.shape[0],self.k,replace=False)]\n",
    "    \n",
    "    def compute_distances(self, X, centroids):\n",
    "        return np.linalg.norm(X[:, np.newaxis] - centroids, axis=2)\n",
    "\n",
    "    def assign_cluster(self,X):\n",
    "        distances = self.compute_distances(X,self.centroids)\n",
    "        cluster = np.argmin(distances,axis=1)\n",
    "        return cluster\n",
    "    \n",
    "    def update_centroids(self,X,labels):\n",
    "        new_centroids = np.array([X[labels == i].mean(axis=0) for i in range(self.k)])\n",
    "        return new_centroids\n",
    "\n",
    "    def compute_objective(self, X, labels):\n",
    "        distances = np.linalg.norm(X - self.centroids[labels], axis=1)\n",
    "        return np.sum(distances**2)\n",
    "    \n",
    "    def fit(self, X):\n",
    "        self.centroids_init(X)\n",
    "        for i in range(self.max_iter):\n",
    "            cluster_assignments = self.assign_cluster(X)\n",
    "            new_centroids = self.update_centroids(X, cluster_assignments)\n",
    "            if np.all(np.abs(new_centroids - self.centroids) < self.diff):\n",
    "                print(f\"Converged after {i+1} iterations.\")\n",
    "                break\n",
    "            \n",
    "            self.centroids = new_centroids\n",
    "        return cluster_assignments, self.centroids\n"
   ]
  },
  {
   "cell_type": "code",
   "execution_count": 14,
   "id": "617ec299-0928-41ca-921c-06d223b97c4e",
   "metadata": {},
   "outputs": [],
   "source": [
    "def evaluate_objective(X, y, K_values):\n",
    "    for K in K_values:\n",
    "        print(f\"\\nEvaluating for K = {K}\")\n",
    "        kmeans = KMeansCustom(K=K)\n",
    "        cluster_assignments, centroids = kmeans.fit(X)\n",
    "        objective = kmeans.compute_objective(X, cluster_assignments)\n",
    "        print(f\"KMeans Objective Function Value: {objective:.4f}\")\n",
    "        \n",
    "\n",
    "def compute_purity(y_true, cluster_assignments, K):\n",
    "    purity = 0\n",
    "    for cluster in range(K):\n",
    "        indices = np.where(cluster_assignments == cluster)[0]\n",
    "        cluster_labels = y_true[indices]\n",
    "        if len(cluster_labels) > 0:\n",
    "            most_common_label = Counter(cluster_labels).most_common(1)[0][0]\n",
    "            purity += np.sum(cluster_labels == most_common_label)\n",
    "    purity_score = purity / len(y_true)\n",
    "    return purity_score\n",
    "\n",
    "def compute_gini_index(y_true, cluster_assignments, K):\n",
    "    total_samples = len(y_true)\n",
    "    gini_total = 0\n",
    "\n",
    "    for cluster in range(K):\n",
    "        indices = np.where(cluster_assignments == cluster)[0]\n",
    "        cluster_labels = y_true[indices]\n",
    "        if len(cluster_labels) == 0:\n",
    "            continue\n",
    "        \n",
    "        label_counts = Counter(cluster_labels)\n",
    "        cluster_size = len(cluster_labels)\n",
    "        gini = 1 - sum((count / cluster_size) ** 2 for count in label_counts.values())\n",
    "        gini_total += (cluster_size / total_samples) * gini\n",
    "    \n",
    "    return gini_total\n"
   ]
  },
  {
   "cell_type": "code",
   "execution_count": 4,
   "id": "f201ab9d-c232-4150-809d-b25b78093d14",
   "metadata": {},
   "outputs": [
    {
     "name": "stdout",
     "output_type": "stream",
     "text": [
      "Training Data Shape: (56000, 784), Training Labels Shape: (56000,)\n",
      "Test Data Shape: (14000, 784), Test Labels Shape: (14000,)\n"
     ]
    }
   ],
   "source": [
    "fashion_mnist = fetch_openml('Fashion-MNIST', version=1)\n",
    "X = fashion_mnist.data.astype('float32')\n",
    "y = fashion_mnist.target.astype('int')\n",
    "\n",
    "X /= 255.0\n",
    "\n",
    "X_train, X_test, y_train, y_test = train_test_split(\n",
    "    X, y, test_size=0.2, random_state=42, stratify=y\n",
    ")\n",
    "\n",
    "\n",
    "\n",
    "print(f\"Training Data Shape: {X_train.shape}, Training Labels Shape: {y_train.shape}\")\n",
    "print(f\"Test Data Shape: {X_test.shape}, Test Labels Shape: {y_test.shape}\")\n"
   ]
  },
  {
   "cell_type": "code",
   "execution_count": 5,
   "id": "82ef61da-0c56-4f1a-b0c8-f0315cf455ee",
   "metadata": {},
   "outputs": [
    {
     "name": "stdout",
     "output_type": "stream",
     "text": [
      "\n",
      "Evaluating for K = 5\n",
      "Converged after 40 iterations.\n",
      "KMeans Objective Function Value: 2199268.1776\n",
      "\n",
      "Evaluating for K = 10\n",
      "Converged after 63 iterations.\n",
      "KMeans Objective Function Value: 1793730.7334\n",
      "\n",
      "Evaluating for K = 20\n",
      "KMeans Objective Function Value: 1503278.0695\n"
     ]
    }
   ],
   "source": [
    "X_train = X_train.values if isinstance(X_train, pd.DataFrame) else X_train\n",
    "\n",
    "\n",
    "K_values = [5,10,20]\n",
    "evaluate_objective(X_train, y_train, K_values)"
   ]
  },
  {
   "cell_type": "code",
   "execution_count": 15,
   "id": "7fb080bd-14a1-43a6-beed-169c0b806d88",
   "metadata": {},
   "outputs": [
    {
     "name": "stdout",
     "output_type": "stream",
     "text": [
      "\n",
      "Evaluating Purity and Gini Index for K = 5\n",
      "Converged after 38 iterations.\n",
      "Purity Score: 0.4111\n",
      "Gini Index: 0.7060\n",
      "\n",
      "Evaluating Purity and Gini Index for K = 10\n",
      "Converged after 61 iterations.\n",
      "Purity Score: 0.5749\n",
      "Gini Index: 0.5577\n",
      "\n",
      "Evaluating Purity and Gini Index for K = 20\n",
      "Converged after 69 iterations.\n",
      "Purity Score: 0.6573\n",
      "Gini Index: 0.4449\n"
     ]
    }
   ],
   "source": [
    "\n",
    "for K in K_values:\n",
    "    print(f\"\\nEvaluating Purity and Gini Index for K = {K}\")\n",
    "    kmeans = KMeansCustom(K)\n",
    "    cluster_assignments, centroids = kmeans.fit(X_train)\n",
    "    purity = compute_purity(y_train.to_numpy(), cluster_assignments, K)\n",
    "    gini_index = compute_gini_index(y_train.to_numpy(), cluster_assignments, K)\n",
    "\n",
    "    print(f\"Purity Score: {purity:.4f}\")\n",
    "    print(f\"Gini Index: {gini_index:.4f}\")"
   ]
  },
  {
   "cell_type": "code",
   "execution_count": 9,
   "id": "43e27d61-c505-4422-9b3f-72c7e6e6af0f",
   "metadata": {},
   "outputs": [
    {
     "name": "stdout",
     "output_type": "stream",
     "text": [
      "\n",
      "Evaluating Purity and Gini Index for K = 5\n",
      "Purity Score: 0.4111\n",
      "Gini Index: 0.7060\n",
      "\n",
      "Evaluating Purity and Gini Index for K = 10\n",
      "Purity Score: 0.5543\n",
      "Gini Index: 0.5665\n",
      "\n",
      "Evaluating Purity and Gini Index for K = 20\n",
      "Purity Score: 0.6518\n",
      "Gini Index: 0.4493\n"
     ]
    }
   ],
   "source": [
    "from sklearn.cluster import KMeans\n",
    "for K in K_values:\n",
    "    print(f\"\\nEvaluating Purity and Gini Index for K = {K}\")\n",
    "\n",
    "    kmeans = KMeans(n_clusters=K, random_state=42, n_init=10, max_iter=300)\n",
    "    cluster_assignments = kmeans.fit_predict(X_train)\n",
    "\n",
    "    purity = compute_purity(y_train.to_numpy(), cluster_assignments, K)\n",
    "    gini_index = compute_gini_index(y_train.to_numpy(), cluster_assignments, K)\n",
    "\n",
    "    print(f\"Purity Score: {purity:.4f}\")\n",
    "    print(f\"Gini Index: {gini_index:.4f}\")"
   ]
  },
  {
   "cell_type": "code",
   "execution_count": null,
   "id": "d22e9368-88ba-4407-b9ca-83f017edc730",
   "metadata": {},
   "outputs": [],
   "source": []
  }
 ],
 "metadata": {
  "kernelspec": {
   "display_name": "Python 3 (ipykernel)",
   "language": "python",
   "name": "python3"
  },
  "language_info": {
   "codemirror_mode": {
    "name": "ipython",
    "version": 3
   },
   "file_extension": ".py",
   "mimetype": "text/x-python",
   "name": "python",
   "nbconvert_exporter": "python",
   "pygments_lexer": "ipython3",
   "version": "3.9.12"
  }
 },
 "nbformat": 4,
 "nbformat_minor": 5
}
