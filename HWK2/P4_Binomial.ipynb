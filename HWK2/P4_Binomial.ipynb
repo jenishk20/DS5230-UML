{
 "cells": [
  {
   "cell_type": "code",
   "execution_count": 2,
   "id": "d50eb939-1315-4225-ac0f-f39a617e70fa",
   "metadata": {},
   "outputs": [],
   "source": [
    "import pandas as pd\n",
    "import numpy as np\n",
    "import random\n",
    "import math"
   ]
  },
  {
   "cell_type": "code",
   "execution_count": 46,
   "id": "52a61c14-db50-4529-aa45-80de6c8b3d4e",
   "metadata": {},
   "outputs": [],
   "source": [
    "def load_session_file(filePath):\n",
    "    with open(filePath,\"r\") as file:\n",
    "        data = [list(map(int, line.strip().split())) for line in file]\n",
    "    return data\n",
    "\n",
    "def init_params():\n",
    "    \n",
    "    w_a,w_b,w_c = np.random.dirichlet([1, 1, 1])\n",
    "    \n",
    "    p_a = random.uniform(0.2,0.8)\n",
    "    p_b = random.uniform(0.2,0.8)\n",
    "    p_c = random.uniform(0.2,0.8)\n",
    "    \n",
    "    total = p_a + p_b + p_c\n",
    "    \n",
    "    p_a = p_a/total\n",
    "    p_b = p_b/total\n",
    "    p_c = p_c/total\n",
    "    \n",
    "    return w_a,w_b,w_c,p_a,p_b,p_c\n",
    "\n",
    "def bernoulli_prob(success,prob_success,n=20):\n",
    "    \n",
    "    comb = math.comb(n,success)\n",
    "    return comb * (prob_success ** success ) * ((1-prob_success) ** (n-success))\n",
    "\n",
    "def em_min_max(data, max_iter=100, diff=1e-5):\n",
    "    \n",
    "    n = len(data)\n",
    "    flips = 20\n",
    "    \n",
    "    w_a,w_b,w_c,p_a,p_b,p_c = init_params()\n",
    "    \n",
    "    for curr_iter in range(max_iter):\n",
    "        \n",
    "        probs = []\n",
    "        likelihood = 0\n",
    "        \n",
    "        # E-Step\n",
    "        for session in data:\n",
    "            \n",
    "            heads = sum(session)\n",
    "            prob_a = w_a * bernoulli_prob(heads,p_a)\n",
    "            prob_b = w_b * bernoulli_prob(heads,p_b)\n",
    "            prob_c = w_c * bernoulli_prob(heads,p_c)\n",
    "            \n",
    "            total_prob = prob_a + prob_b + prob_c \n",
    "            \n",
    "            prob_that_session_was_generated_using_a = prob_a / total_prob\n",
    "            prob_that_session_was_generated_using_b = prob_b / total_prob\n",
    "            prob_that_session_was_generated_using_c = prob_c / total_prob\n",
    "            \n",
    "            tuple_new = (prob_that_session_was_generated_using_a,prob_that_session_was_generated_using_b,prob_that_session_was_generated_using_c)\n",
    "            probs.append(tuple_new)\n",
    "            \n",
    "            likelihood += math.log(total_prob)\n",
    "            \n",
    "        # M-Step Updating Params\n",
    "        \n",
    "        w_a = sum(p[0] for p in probs) / n\n",
    "        w_b = sum(p[1] for p in probs) / n\n",
    "        w_c = sum(p[2] for p in probs) / n\n",
    "        \n",
    "        p_a = sum(r[0] * sum(session) for r, session in zip(probs, data)) / (sum(p[0] for p in probs) * flips)\n",
    "        p_b = sum(r[1] * sum(session) for r, session in zip(probs, data)) / (sum(p[1] for p in probs) * flips)\n",
    "        p_c = sum(r[2] * sum(session) for r, session in zip(probs, data)) / (sum(p[2] for p in probs) * flips)\n",
    "\n",
    "        \n",
    "        if curr_iter > 0 and abs(likelihood - prev_likelihood) < diff:\n",
    "            break\n",
    "\n",
    "        prev_likelihood = likelihood\n",
    "        \n",
    "    return w_a,w_b,w_c,p_a,p_b,p_c\n",
    "    \n"
   ]
  },
  {
   "cell_type": "code",
   "execution_count": 45,
   "id": "6e7799d5-0f8b-4ec9-aa9d-024232c6b798",
   "metadata": {},
   "outputs": [
    {
     "name": "stdout",
     "output_type": "stream",
     "text": [
      "Estimated Mixing Probabilities: π_A=0.515, π_B=0.307, π_C=0.179\n",
      "Estimated Coin Biases: p_A=0.610, p_B=0.237, p_C=0.932\n"
     ]
    }
   ],
   "source": [
    "data = load_session_file('session_data.txt')\n",
    "w_a,w_b,w_c,p_a,p_b,p_c = em_min_max(data)\n",
    "\n",
    "print(f\"Estimated Mixing Probabilities: π_A={w_a:.3f}, π_B={w_b:.3f}, π_C={w_c:.3f}\")\n",
    "print(f\"Estimated Coin Biases: p_A={p_a:.3f}, p_B={p_b:.3f}, p_C={p_c:.3f}\")\n"
   ]
  },
  {
   "cell_type": "code",
   "execution_count": null,
   "id": "3c343fe5-a3b6-4d20-a684-d9aa7f830cd3",
   "metadata": {},
   "outputs": [],
   "source": []
  }
 ],
 "metadata": {
  "kernelspec": {
   "display_name": "Python 3 (ipykernel)",
   "language": "python",
   "name": "python3"
  },
  "language_info": {
   "codemirror_mode": {
    "name": "ipython",
    "version": 3
   },
   "file_extension": ".py",
   "mimetype": "text/x-python",
   "name": "python",
   "nbconvert_exporter": "python",
   "pygments_lexer": "ipython3",
   "version": "3.9.12"
  }
 },
 "nbformat": 4,
 "nbformat_minor": 5
}
