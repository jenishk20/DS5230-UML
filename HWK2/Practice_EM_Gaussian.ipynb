{
 "cells": [
  {
   "cell_type": "code",
   "execution_count": null,
   "metadata": {},
   "outputs": [],
   "source": [
    "import numpy as np\n",
    "import random\n",
    "import matplotlib.pyplot as plt"
   ]
  },
  {
   "cell_type": "code",
   "execution_count": 5,
   "metadata": {},
   "outputs": [
    {
     "name": "stdout",
     "output_type": "stream",
     "text": [
      "(6000, 2)\n"
     ]
    }
   ],
   "source": [
    "fileName = 'https://www.ccs.neu.edu/home/vip/teach/DMcourse/2_cluster_EM_mixt/HW2/2gaussian.txt'\n",
    "\n",
    "data = np.loadtxt(fileName)\n",
    "\n",
    "print(data.shape)"
   ]
  },
  {
   "cell_type": "code",
   "execution_count": 18,
   "metadata": {},
   "outputs": [],
   "source": [
    "class GaussianEM:\n",
    "    def __init__(self,epochs = 100,gaussians = 2):\n",
    "        self.epochs = epochs\n",
    "        self.gaussians = gaussians\n",
    "    \n",
    "    def initParams(self,X):\n",
    "        dataPoints, dims = X.shape\n",
    "        self.cov = [[0 for _ in range(dims)] for _ in range(dims)]\n",
    "        self.mu = [0 for _ in range(dims)]\n",
    "        self.selectProb = [1]*self.gaussians\n",
    "        self.selectProb = [x/self.gaussians for x in self.selectProb]\n",
    "    \n",
    "    def multivariateGaussian(self,x,mu,cov):\n",
    "        d = len(mu)\n",
    "        coeff = 1 / ((2 * np.pi) ** (d / 2) * np.linalg.det(cov) ** 0.5)\n",
    "        x_mu = x - mu\n",
    "        exponent = -0.5 * np.dot(np.dot(x_mu, np.linalg.inv(cov)), x_mu.T)\n",
    "        return coeff * np.exp(exponent)\n",
    "    \n",
    "    def assignPointsResponsibility(self,X):\n",
    "        dataPoints, dims = X.shape\n",
    "        self.responsibility = np.zeros((dataPoints, self.gaussians))\n",
    "\n",
    "        for i in range(dataPoints):\n",
    "            for j in range(self.gaussians):\n",
    "                self.responsibility[i][j] = self.selectProb[j] * self.multivariateGaussian(X[i], self.mu[j], self.cov[j])\n",
    "            self.responsibility[i] /= np.sum(self.responsibility[i])\n",
    "\n",
    "    def updateParams(self,X):\n",
    "        dataPoints, dims = X.shape\n",
    "        for j in range(self.gaussians):\n",
    "            N_j = np.sum(self.responsibility[:, j])\n",
    "            self.mu[j] = np.sum(self.responsibility[:, j][:, np.newaxis] * X, axis=0) / N_j\n",
    "            diff = X - self.mu[j]\n",
    "            self.cov[j] = np.dot((self.responsibility[:, j][:, np.newaxis] * diff).T, diff) / N_j\n",
    "            self.selectProb[j] = N_j / dataPoints\n",
    "\n",
    "\n",
    "    def fit(self,X):\n",
    "        self.initParams(X)\n",
    "        print(self.selectProb)\n",
    "        print(self.mu)\n",
    "        print(self.cov)\n",
    "\n",
    "        for i in range(self.epochs):\n",
    "            self.assignPointsResponsibility(X)\n",
    "            self.updateParams(X)\n",
    "\n",
    "        return self.mu, self.cov, self.selectProb\n"
   ]
  },
  {
   "cell_type": "code",
   "execution_count": 19,
   "metadata": {},
   "outputs": [
    {
     "name": "stdout",
     "output_type": "stream",
     "text": [
      "[0.5, 0.5]\n",
      "[0, 0]\n",
      "[[0, 0], [0, 0]]\n"
     ]
    },
    {
     "ename": "TypeError",
     "evalue": "object of type 'int' has no len()",
     "output_type": "error",
     "traceback": [
      "\u001b[31m---------------------------------------------------------------------------\u001b[39m",
      "\u001b[31mTypeError\u001b[39m                                 Traceback (most recent call last)",
      "\u001b[36mCell\u001b[39m\u001b[36m \u001b[39m\u001b[32mIn[19]\u001b[39m\u001b[32m, line 2\u001b[39m\n\u001b[32m      1\u001b[39m gmm = GaussianEM(\u001b[32m100\u001b[39m)\n\u001b[32m----> \u001b[39m\u001b[32m2\u001b[39m mu,cov,select = \u001b[43mgmm\u001b[49m\u001b[43m.\u001b[49m\u001b[43mfit\u001b[49m\u001b[43m(\u001b[49m\u001b[43mdata\u001b[49m\u001b[43m)\u001b[49m\n\u001b[32m      4\u001b[39m \u001b[38;5;28mprint\u001b[39m(mu,cov,select)\n",
      "\u001b[36mCell\u001b[39m\u001b[36m \u001b[39m\u001b[32mIn[18]\u001b[39m\u001b[32m, line 46\u001b[39m, in \u001b[36mGaussianEM.fit\u001b[39m\u001b[34m(self, X)\u001b[39m\n\u001b[32m     43\u001b[39m \u001b[38;5;28mprint\u001b[39m(\u001b[38;5;28mself\u001b[39m.cov)\n\u001b[32m     45\u001b[39m \u001b[38;5;28;01mfor\u001b[39;00m i \u001b[38;5;129;01min\u001b[39;00m \u001b[38;5;28mrange\u001b[39m(\u001b[38;5;28mself\u001b[39m.epochs):\n\u001b[32m---> \u001b[39m\u001b[32m46\u001b[39m     \u001b[38;5;28;43mself\u001b[39;49m\u001b[43m.\u001b[49m\u001b[43massignPointsResponsibility\u001b[49m\u001b[43m(\u001b[49m\u001b[43mX\u001b[49m\u001b[43m)\u001b[49m\n\u001b[32m     47\u001b[39m     \u001b[38;5;28mself\u001b[39m.updateParams(X)\n\u001b[32m     49\u001b[39m \u001b[38;5;28;01mreturn\u001b[39;00m \u001b[38;5;28mself\u001b[39m.mu, \u001b[38;5;28mself\u001b[39m.cov, \u001b[38;5;28mself\u001b[39m.selectProb\n",
      "\u001b[36mCell\u001b[39m\u001b[36m \u001b[39m\u001b[32mIn[18]\u001b[39m\u001b[32m, line 26\u001b[39m, in \u001b[36mGaussianEM.assignPointsResponsibility\u001b[39m\u001b[34m(self, X)\u001b[39m\n\u001b[32m     24\u001b[39m \u001b[38;5;28;01mfor\u001b[39;00m i \u001b[38;5;129;01min\u001b[39;00m \u001b[38;5;28mrange\u001b[39m(dataPoints):\n\u001b[32m     25\u001b[39m     \u001b[38;5;28;01mfor\u001b[39;00m j \u001b[38;5;129;01min\u001b[39;00m \u001b[38;5;28mrange\u001b[39m(\u001b[38;5;28mself\u001b[39m.gaussians):\n\u001b[32m---> \u001b[39m\u001b[32m26\u001b[39m         \u001b[38;5;28mself\u001b[39m.responsibility[i][j] = \u001b[38;5;28mself\u001b[39m.selectProb[j] * \u001b[38;5;28;43mself\u001b[39;49m\u001b[43m.\u001b[49m\u001b[43mmultivariateGaussian\u001b[49m\u001b[43m(\u001b[49m\u001b[43mX\u001b[49m\u001b[43m[\u001b[49m\u001b[43mi\u001b[49m\u001b[43m]\u001b[49m\u001b[43m,\u001b[49m\u001b[43m \u001b[49m\u001b[38;5;28;43mself\u001b[39;49m\u001b[43m.\u001b[49m\u001b[43mmu\u001b[49m\u001b[43m[\u001b[49m\u001b[43mj\u001b[49m\u001b[43m]\u001b[49m\u001b[43m,\u001b[49m\u001b[43m \u001b[49m\u001b[38;5;28;43mself\u001b[39;49m\u001b[43m.\u001b[49m\u001b[43mcov\u001b[49m\u001b[43m[\u001b[49m\u001b[43mj\u001b[49m\u001b[43m]\u001b[49m\u001b[43m)\u001b[49m\n\u001b[32m     27\u001b[39m     \u001b[38;5;28mself\u001b[39m.responsibility[i] /= np.sum(\u001b[38;5;28mself\u001b[39m.responsibility[i])\n",
      "\u001b[36mCell\u001b[39m\u001b[36m \u001b[39m\u001b[32mIn[18]\u001b[39m\u001b[32m, line 14\u001b[39m, in \u001b[36mGaussianEM.multivariateGaussian\u001b[39m\u001b[34m(self, x, mu, cov)\u001b[39m\n\u001b[32m     13\u001b[39m \u001b[38;5;28;01mdef\u001b[39;00m\u001b[38;5;250m \u001b[39m\u001b[34mmultivariateGaussian\u001b[39m(\u001b[38;5;28mself\u001b[39m,x,mu,cov):\n\u001b[32m---> \u001b[39m\u001b[32m14\u001b[39m     d = \u001b[38;5;28;43mlen\u001b[39;49m\u001b[43m(\u001b[49m\u001b[43mmu\u001b[49m\u001b[43m)\u001b[49m\n\u001b[32m     15\u001b[39m     coeff = \u001b[32m1\u001b[39m / ((\u001b[32m2\u001b[39m * np.pi) ** (d / \u001b[32m2\u001b[39m) * np.linalg.det(cov) ** \u001b[32m0.5\u001b[39m)\n\u001b[32m     16\u001b[39m     x_mu = x - mu\n",
      "\u001b[31mTypeError\u001b[39m: object of type 'int' has no len()"
     ]
    }
   ],
   "source": [
    "gmm = GaussianEM(100)\n",
    "mu,cov,select = gmm.fit(data)\n",
    "\n",
    "print(mu,cov,select)"
   ]
  },
  {
   "cell_type": "code",
   "execution_count": null,
   "metadata": {},
   "outputs": [],
   "source": []
  }
 ],
 "metadata": {
  "kernelspec": {
   "display_name": "myenv",
   "language": "python",
   "name": "python3"
  },
  "language_info": {
   "codemirror_mode": {
    "name": "ipython",
    "version": 3
   },
   "file_extension": ".py",
   "mimetype": "text/x-python",
   "name": "python",
   "nbconvert_exporter": "python",
   "pygments_lexer": "ipython3",
   "version": "3.13.2"
  }
 },
 "nbformat": 4,
 "nbformat_minor": 2
}
