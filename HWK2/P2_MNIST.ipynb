{
 "cells": [
  {
   "cell_type": "code",
   "execution_count": 26,
   "id": "86167c5f-9d42-4e66-89a9-1bd9791caff0",
   "metadata": {},
   "outputs": [],
   "source": [
    "import pandas as pd\n",
    "import matplotlib.pyplot as plt\n",
    "import numpy as np\n",
    "import seaborn as sns\n",
    "from sklearn.model_selection import train_test_split"
   ]
  },
  {
   "cell_type": "code",
   "execution_count": 27,
   "id": "f29033d4-51ec-4135-a2c0-6bf389f46898",
   "metadata": {},
   "outputs": [],
   "source": [
    "class KMeans:\n",
    "    \n",
    "    def __init__(self,K,max_iter = 100,diff = 1e-4):\n",
    "        self.k = K\n",
    "        self.max_iter = max_iter\n",
    "        self.diff = diff\n",
    "        self.centroids = None\n",
    "\n",
    "    def centroids_init(self,X):\n",
    "        self.centroids = X[np.random.choice(X.shape[0],self.k,replace=False)]\n",
    "    \n",
    "    def compute_distances(self, X, centroids):\n",
    "        return np.linalg.norm(X[:, np.newaxis] - centroids, axis=2)\n",
    "\n",
    "    def assign_cluster(self,X):\n",
    "        distances = self.compute_distances(X,self.centroids)\n",
    "        cluster = np.argmin(distances,axis=1)\n",
    "        return cluster\n",
    "    \n",
    "    def update_centroids(self,X,labels):\n",
    "        new_centroids = np.array([X[labels == i].mean(axis=0) for i in range(self.k)])\n",
    "        return new_centroids\n",
    "\n",
    "    def compute_objective(self, X, labels):\n",
    "        distances = np.linalg.norm(X - self.centroids[labels], axis=1)\n",
    "        return np.sum(distances**2)\n",
    "    \n",
    "    def fit(self, X):\n",
    "        self.centroids_init(X)\n",
    "        for i in range(self.max_iter):\n",
    "            cluster_assignments = self.assign_cluster(X)\n",
    "            new_centroids = self.update_centroids(X, cluster_assignments)\n",
    "            if np.all(np.abs(new_centroids - self.centroids) < self.diff):\n",
    "                print(f\"Converged after {i+1} iterations.\")\n",
    "                break\n",
    "            \n",
    "            self.centroids = new_centroids\n",
    "        return cluster_assignments, self.centroids\n"
   ]
  },
  {
   "cell_type": "code",
   "execution_count": 15,
   "id": "4e29ad5b-58c5-405e-bd2c-811c1a98e15d",
   "metadata": {},
   "outputs": [
    {
     "name": "stdout",
     "output_type": "stream",
     "text": [
      "Training Data Shape: (55998, 784), Training Labels Shape: (55998,)\n",
      "Test Data Shape: (9999, 784), Test Labels Shape: (9999,)\n"
     ]
    }
   ],
   "source": [
    "train_data = pd.read_csv('mnist_train.csv')\n",
    "y_train_full = train_data.iloc[:, 0].values\n",
    "X_train_full = train_data.iloc[:, 1:].values\n",
    " \n",
    "test_data = pd.read_csv('mnist_test.csv')\n",
    "y_test = test_data.iloc[:, 0].values\n",
    "X_test = test_data.iloc[:, 1:].values\n",
    " \n",
    "X_train_full = X_train_full / 255.0\n",
    "X_test = X_test / 255.0\n",
    " \n",
    " \n",
    "X_combined = np.vstack((X_train_full, X_test))\n",
    "y_combined = np.hstack((y_train_full, y_test))\n",
    " \n",
    " \n",
    "X_train, X_remaining, y_train, y_remaining = train_test_split(\n",
    "    X_combined, y_combined, test_size=0.2, random_state=42, stratify=y_combined\n",
    ")\n",
    " \n",
    "print(f\"Training Data Shape: {X_train.shape}, Training Labels Shape: {y_train.shape}\")\n",
    "print(f\"Test Data Shape: {X_test.shape}, Test Labels Shape: {y_test.shape}\")"
   ]
  },
  {
   "cell_type": "code",
   "execution_count": 22,
   "id": "2c869cf7-72c6-4c3e-97b6-06f31f36aa12",
   "metadata": {},
   "outputs": [],
   "source": [
    "def evaluate_objective(X, y, K_values):\n",
    "    for K in K_values:\n",
    "        print(f\"\\nEvaluating for K = {K}\")\n",
    "        kmeans = KMeans(K=K)\n",
    "        cluster_assignments, centroids = kmeans.fit(X)\n",
    "        objective = kmeans.compute_objective(X, cluster_assignments)\n",
    "        print(f\"KMeans Objective Function Value: {objective:.4f}\")\n",
    "        \n",
    "\n",
    "def compute_purity(y_true, cluster_assignments, K):\n",
    "    cluster_to_label = {}\n",
    "    for cluster in range(K):\n",
    "        indices = np.where(cluster_assignments == cluster)[0]\n",
    "        cluster_labels = y_true[indices]\n",
    "        if len(cluster_labels) > 0:\n",
    "            most_common_label = Counter(cluster_labels).most_common(1)[0][0]\n",
    "            cluster_to_label[cluster] = most_common_label\n",
    "    \n",
    "    y_pred = np.array([cluster_to_label[c] for c in cluster_assignments])\n",
    "    accuracy = np.mean(y_pred == y_true)\n",
    "    return accuracy\n",
    "\n",
    "def compute_gini_index(y_true, cluster_assignments, K):\n",
    "    total_samples = len(y_true)\n",
    "    gini_total = 0\n",
    "\n",
    "    for cluster in range(K):\n",
    "        indices = np.where(cluster_assignments == cluster)[0]\n",
    "        cluster_labels = y_true[indices]\n",
    "        if len(cluster_labels) == 0:\n",
    "            continue\n",
    "        \n",
    "        label_counts = Counter(cluster_labels)\n",
    "        cluster_size = len(cluster_labels)\n",
    "        gini = 1 - sum((count / cluster_size) ** 2 for count in label_counts.values())\n",
    "        gini_total += (cluster_size / total_samples) * gini\n",
    "    \n",
    "    return gini_total\n"
   ]
  },
  {
   "cell_type": "code",
   "execution_count": 18,
   "id": "c0195ce2-8ea8-43c1-8d37-b41ddf7943ea",
   "metadata": {},
   "outputs": [
    {
     "name": "stdout",
     "output_type": "stream",
     "text": [
      "\n",
      "Evaluating for K = 10\n",
      "Converged after 99 iterations.\n",
      "KMeans Objective Function Value: 2211648.8621\n",
      "\n",
      "Evaluating for K = 5\n",
      "Converged after 27 iterations.\n",
      "KMeans Objective Function Value: 2432322.2072\n",
      "\n",
      "Evaluating for K = 20\n",
      "Converged after 90 iterations.\n",
      "KMeans Objective Function Value: 1978495.3097\n"
     ]
    }
   ],
   "source": [
    "K_values = [10, 5, 20]\n",
    "evaluate_objective(X_train, y_train, K_values)"
   ]
  },
  {
   "cell_type": "code",
   "execution_count": 23,
   "id": "362e0e36-6be0-4004-9367-ff208f5e03cb",
   "metadata": {},
   "outputs": [
    {
     "name": "stdout",
     "output_type": "stream",
     "text": [
      "\n",
      "Evaluating Purity and Gini Index for K = 10\n",
      "Converged after 99 iterations.\n",
      "Purity Score: 0.5892\n",
      "Gini Index: 0.5374\n",
      "\n",
      "Evaluating Purity and Gini Index for K = 5\n",
      "Converged after 27 iterations.\n",
      "Purity Score: 0.4516\n",
      "Gini Index: 0.6590\n",
      "\n",
      "Evaluating Purity and Gini Index for K = 20\n",
      "Purity Score: 0.7075\n",
      "Gini Index: 0.3981\n"
     ]
    }
   ],
   "source": [
    "\n",
    "for K in K_values:\n",
    "    print(f\"\\nEvaluating Purity and Gini Index for K = {K}\")\n",
    "    kmeans = KMeans(K=K)\n",
    "    cluster_assignments, centroids = kmeans.fit(X_train)\n",
    "\n",
    "    purity = compute_purity(y_train, cluster_assignments, K)\n",
    "    gini_index = compute_gini_index(y_train, cluster_assignments, K)\n",
    "\n",
    "    print(f\"Purity Score: {purity:.4f}\")\n",
    "    print(f\"Gini Index: {gini_index:.4f}\")"
   ]
  },
  {
   "cell_type": "code",
   "execution_count": 25,
   "id": "ff65f5c2-6dd3-44ce-97a8-2edd4de09425",
   "metadata": {},
   "outputs": [
    {
     "name": "stdout",
     "output_type": "stream",
     "text": [
      "\n",
      "Evaluating Purity and Gini Index for K = 10\n",
      "Purity Score: 0.5841\n",
      "Gini Index: 0.5440\n",
      "\n",
      "Evaluating Purity and Gini Index for K = 5\n",
      "Purity Score: 0.4521\n",
      "Gini Index: 0.6586\n",
      "\n",
      "Evaluating Purity and Gini Index for K = 20\n",
      "Purity Score: 0.7095\n",
      "Gini Index: 0.4027\n"
     ]
    }
   ],
   "source": [
    "from sklearn.cluster import KMeans\n",
    "for K in K_values:\n",
    "    print(f\"\\nEvaluating Purity and Gini Index for K = {K}\")\n",
    "\n",
    "    kmeans = KMeans(n_clusters=K, random_state=42, n_init=10, max_iter=300)\n",
    "    cluster_assignments = kmeans.fit_predict(X_train)\n",
    "\n",
    "    purity = compute_purity(y_train, cluster_assignments, K)\n",
    "    gini_index = compute_gini_index(y_train, cluster_assignments, K)\n",
    "\n",
    "    print(f\"Purity Score: {purity:.4f}\")\n",
    "    print(f\"Gini Index: {gini_index:.4f}\")"
   ]
  },
  {
   "cell_type": "code",
   "execution_count": null,
   "id": "2c5de568-4d3b-4246-9c78-33f5753ac0dd",
   "metadata": {},
   "outputs": [],
   "source": []
  }
 ],
 "metadata": {
  "kernelspec": {
   "display_name": "Python 3 (ipykernel)",
   "language": "python",
   "name": "python3"
  },
  "language_info": {
   "codemirror_mode": {
    "name": "ipython",
    "version": 3
   },
   "file_extension": ".py",
   "mimetype": "text/x-python",
   "name": "python",
   "nbconvert_exporter": "python",
   "pygments_lexer": "ipython3",
   "version": "3.9.12"
  }
 },
 "nbformat": 4,
 "nbformat_minor": 5
}
