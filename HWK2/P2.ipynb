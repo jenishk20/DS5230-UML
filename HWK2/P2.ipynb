{
 "cells": [
  {
   "cell_type": "code",
   "execution_count": null,
   "metadata": {},
   "outputs": [],
   "source": [
    "import pandas as pd\n",
    "import matplotlib.pyplot as plt\n",
    "import numpy as np\n",
    "import seaborn as sns\n",
    "from sklearn.model_selection import train_test_split"
   ]
  },
  {
   "cell_type": "code",
   "execution_count": 29,
   "metadata": {},
   "outputs": [],
   "source": [
    "class KMeans:\n",
    "    def __init__(self,K,max_iter = 100,diff = 1e-4):\n",
    "        self.k = K\n",
    "        self.max_iter = max_iter\n",
    "        self.diff = diff\n",
    "        self.centroids = None\n",
    "\n",
    "    def centroids_init(self,X):\n",
    "        self.centroids = X[np.random.choice(X.shape[0],self.k,replace=False)]\n",
    "    \n",
    "    def compute_distances(self, X, centroids):\n",
    "        return np.linalg.norm(X[:, np.newaxis] - centroids, axis=2)\n",
    "\n",
    "\n",
    "\n",
    "    def assign_cluster(self,X):\n",
    "        distances = self.compute_distances(X,self.centroids)\n",
    "        cluster = np.argmin(distances,axis=1)\n",
    "        return cluster\n",
    "    \n",
    "    def update_centroids(self,X,labels):\n",
    "        new_centroids = np.array([X[labels == i].mean(axis=0) for i in range(self.k)])\n",
    "        return new_centroids\n",
    "\n",
    "    def compute_objective(self, X, labels):\n",
    "        distances = np.linalg.norm(X - self.centroids[labels], axis=1)\n",
    "        return np.sum(distances**2)\n",
    "    \n",
    "    def fit(self, X):\n",
    "        self.centroids_init(X)\n",
    "        for i in range(self.max_iter):\n",
    "            cluster_assignments = self.assign_cluster(X)\n",
    "            \n",
    "            new_centroids = self.update_centroids(X, cluster_assignments)\n",
    "            \n",
    "            if np.all(np.abs(new_centroids - self.centroids) < self.diff):\n",
    "                print(f\"Converged after {i+1} iterations.\")\n",
    "                break\n",
    "            \n",
    "            self.centroids = new_centroids\n",
    "\n",
    "        return cluster_assignments, self.centroids\n",
    "\n",
    "    \n",
    "    def predict(self,X):\n",
    "        distances = self.compute_objective(X,self.centroids)\n",
    "        labels = np.argmin(distances,axis=1)\n",
    "        return labels\n"
   ]
  },
  {
   "cell_type": "code",
   "execution_count": 17,
   "metadata": {},
   "outputs": [
    {
     "name": "stdout",
     "output_type": "stream",
     "text": [
      "Training Data Shape: (55998, 784), Training Labels Shape: (55998,)\n",
      "Validation Data Shape: (7000, 784), Validation Labels Shape: (7000,)\n",
      "Test Data Shape: (7000, 784), Test Labels Shape: (7000,)\n"
     ]
    }
   ],
   "source": [
    "train_data = pd.read_csv('../Dataset/MNIST_CSV/mnist_train.csv')\n",
    "y_train_full = train_data.iloc[:, 0].values\n",
    "X_train_full = train_data.iloc[:, 1:].values\n",
    " \n",
    "test_data = pd.read_csv('../Dataset/MNIST_CSV/mnist_test.csv')\n",
    "y_test = test_data.iloc[:, 0].values\n",
    "X_test = test_data.iloc[:, 1:].values\n",
    " \n",
    "X_train_full = X_train_full / 255.0\n",
    "X_test = X_test / 255.0\n",
    " \n",
    " \n",
    "X_combined = np.vstack((X_train_full, X_test))\n",
    "y_combined = np.hstack((y_train_full, y_test))\n",
    " \n",
    " \n",
    "X_train, X_remaining, y_train, y_remaining = train_test_split(\n",
    "    X_combined, y_combined, test_size=0.2, random_state=42, stratify=y_combined\n",
    ")\n",
    " \n",
    "X_val, X_test, y_val, y_test = train_test_split(\n",
    "    X_remaining, y_remaining, test_size=0.5, random_state=42, stratify=y_remaining\n",
    ")\n",
    " \n",
    " \n",
    "print(f\"Training Data Shape: {X_train.shape}, Training Labels Shape: {y_train.shape}\")\n",
    "print(f\"Validation Data Shape: {X_val.shape}, Validation Labels Shape: {y_val.shape}\")\n",
    "print(f\"Test Data Shape: {X_test.shape}, Test Labels Shape: {y_test.shape}\")"
   ]
  },
  {
   "cell_type": "code",
   "execution_count": 30,
   "metadata": {},
   "outputs": [
    {
     "ename": "KeyboardInterrupt",
     "evalue": "",
     "output_type": "error",
     "traceback": [
      "\u001b[0;31m---------------------------------------------------------------------------\u001b[0m",
      "\u001b[0;31mKeyboardInterrupt\u001b[0m                         Traceback (most recent call last)",
      "Cell \u001b[0;32mIn[30], line 3\u001b[0m\n\u001b[1;32m      1\u001b[0m kmeans \u001b[38;5;241m=\u001b[39m KMeans(K\u001b[38;5;241m=\u001b[39m\u001b[38;5;241m10\u001b[39m)\n\u001b[0;32m----> 3\u001b[0m cluster_assignments, centroids \u001b[38;5;241m=\u001b[39m \u001b[43mkmeans\u001b[49m\u001b[38;5;241;43m.\u001b[39;49m\u001b[43mfit\u001b[49m\u001b[43m(\u001b[49m\u001b[43mX_train\u001b[49m\u001b[43m)\u001b[49m\n\u001b[1;32m      5\u001b[0m \u001b[38;5;28;01mfor\u001b[39;00m i \u001b[38;5;129;01min\u001b[39;00m \u001b[38;5;28mrange\u001b[39m(\u001b[38;5;241m10\u001b[39m):\n\u001b[1;32m      6\u001b[0m     plt\u001b[38;5;241m.\u001b[39msubplot(\u001b[38;5;241m2\u001b[39m, \u001b[38;5;241m5\u001b[39m, i\u001b[38;5;241m+\u001b[39m\u001b[38;5;241m1\u001b[39m)\n",
      "Cell \u001b[0;32mIn[29], line 32\u001b[0m, in \u001b[0;36mKMeans.fit\u001b[0;34m(self, X)\u001b[0m\n\u001b[1;32m     30\u001b[0m \u001b[38;5;28mself\u001b[39m\u001b[38;5;241m.\u001b[39mcentroids_init(X)\n\u001b[1;32m     31\u001b[0m \u001b[38;5;28;01mfor\u001b[39;00m i \u001b[38;5;129;01min\u001b[39;00m \u001b[38;5;28mrange\u001b[39m(\u001b[38;5;28mself\u001b[39m\u001b[38;5;241m.\u001b[39mmax_iter):\n\u001b[0;32m---> 32\u001b[0m     cluster_assignments \u001b[38;5;241m=\u001b[39m \u001b[38;5;28;43mself\u001b[39;49m\u001b[38;5;241;43m.\u001b[39;49m\u001b[43massign_cluster\u001b[49m\u001b[43m(\u001b[49m\u001b[43mX\u001b[49m\u001b[43m)\u001b[49m\n\u001b[1;32m     34\u001b[0m     new_centroids \u001b[38;5;241m=\u001b[39m \u001b[38;5;28mself\u001b[39m\u001b[38;5;241m.\u001b[39mupdate_centroids(X, cluster_assignments)\n\u001b[1;32m     36\u001b[0m     \u001b[38;5;28;01mif\u001b[39;00m np\u001b[38;5;241m.\u001b[39mall(np\u001b[38;5;241m.\u001b[39mabs(new_centroids \u001b[38;5;241m-\u001b[39m \u001b[38;5;28mself\u001b[39m\u001b[38;5;241m.\u001b[39mcentroids) \u001b[38;5;241m<\u001b[39m \u001b[38;5;28mself\u001b[39m\u001b[38;5;241m.\u001b[39mdiff):\n",
      "Cell \u001b[0;32mIn[29], line 17\u001b[0m, in \u001b[0;36mKMeans.assign_cluster\u001b[0;34m(self, X)\u001b[0m\n\u001b[1;32m     16\u001b[0m \u001b[38;5;28;01mdef\u001b[39;00m\u001b[38;5;250m \u001b[39m\u001b[38;5;21massign_cluster\u001b[39m(\u001b[38;5;28mself\u001b[39m,X):\n\u001b[0;32m---> 17\u001b[0m     distances \u001b[38;5;241m=\u001b[39m \u001b[38;5;28;43mself\u001b[39;49m\u001b[38;5;241;43m.\u001b[39;49m\u001b[43mcompute_distances\u001b[49m\u001b[43m(\u001b[49m\u001b[43mX\u001b[49m\u001b[43m,\u001b[49m\u001b[38;5;28;43mself\u001b[39;49m\u001b[38;5;241;43m.\u001b[39;49m\u001b[43mcentroids\u001b[49m\u001b[43m)\u001b[49m\n\u001b[1;32m     18\u001b[0m     cluster \u001b[38;5;241m=\u001b[39m np\u001b[38;5;241m.\u001b[39margmin(distances,axis\u001b[38;5;241m=\u001b[39m\u001b[38;5;241m1\u001b[39m)\n\u001b[1;32m     19\u001b[0m     \u001b[38;5;28;01mreturn\u001b[39;00m cluster\n",
      "Cell \u001b[0;32mIn[29], line 12\u001b[0m, in \u001b[0;36mKMeans.compute_distances\u001b[0;34m(self, X, centroids)\u001b[0m\n\u001b[1;32m     11\u001b[0m \u001b[38;5;28;01mdef\u001b[39;00m\u001b[38;5;250m \u001b[39m\u001b[38;5;21mcompute_distances\u001b[39m(\u001b[38;5;28mself\u001b[39m, X, centroids):\n\u001b[0;32m---> 12\u001b[0m     \u001b[38;5;28;01mreturn\u001b[39;00m \u001b[43mnp\u001b[49m\u001b[38;5;241;43m.\u001b[39;49m\u001b[43mlinalg\u001b[49m\u001b[38;5;241;43m.\u001b[39;49m\u001b[43mnorm\u001b[49m\u001b[43m(\u001b[49m\u001b[43mX\u001b[49m\u001b[43m[\u001b[49m\u001b[43m:\u001b[49m\u001b[43m,\u001b[49m\u001b[43m \u001b[49m\u001b[43mnp\u001b[49m\u001b[38;5;241;43m.\u001b[39;49m\u001b[43mnewaxis\u001b[49m\u001b[43m]\u001b[49m\u001b[43m \u001b[49m\u001b[38;5;241;43m-\u001b[39;49m\u001b[43m \u001b[49m\u001b[43mcentroids\u001b[49m\u001b[43m,\u001b[49m\u001b[43m \u001b[49m\u001b[43maxis\u001b[49m\u001b[38;5;241;43m=\u001b[39;49m\u001b[38;5;241;43m2\u001b[39;49m\u001b[43m)\u001b[49m\n",
      "File \u001b[0;32m~/Northeastern/DS5230/HWK2/.venv/lib/python3.13/site-packages/numpy/linalg/_linalg.py:2571\u001b[0m, in \u001b[0;36m_norm_dispatcher\u001b[0;34m(x, ord, axis, keepdims)\u001b[0m\n\u001b[1;32m   2567\u001b[0m     result \u001b[38;5;241m=\u001b[39m op(svd(y, compute_uv\u001b[38;5;241m=\u001b[39m\u001b[38;5;28;01mFalse\u001b[39;00m), axis\u001b[38;5;241m=\u001b[39m\u001b[38;5;241m-\u001b[39m\u001b[38;5;241m1\u001b[39m)\n\u001b[1;32m   2568\u001b[0m     \u001b[38;5;28;01mreturn\u001b[39;00m result\n\u001b[0;32m-> 2571\u001b[0m \u001b[38;5;28;01mdef\u001b[39;00m\u001b[38;5;250m \u001b[39m\u001b[38;5;21m_norm_dispatcher\u001b[39m(x, \u001b[38;5;28mord\u001b[39m\u001b[38;5;241m=\u001b[39m\u001b[38;5;28;01mNone\u001b[39;00m, axis\u001b[38;5;241m=\u001b[39m\u001b[38;5;28;01mNone\u001b[39;00m, keepdims\u001b[38;5;241m=\u001b[39m\u001b[38;5;28;01mNone\u001b[39;00m):\n\u001b[1;32m   2572\u001b[0m     \u001b[38;5;28;01mreturn\u001b[39;00m (x,)\n\u001b[1;32m   2575\u001b[0m \u001b[38;5;129m@array_function_dispatch\u001b[39m(_norm_dispatcher)\n\u001b[1;32m   2576\u001b[0m \u001b[38;5;28;01mdef\u001b[39;00m\u001b[38;5;250m \u001b[39m\u001b[38;5;21mnorm\u001b[39m(x, \u001b[38;5;28mord\u001b[39m\u001b[38;5;241m=\u001b[39m\u001b[38;5;28;01mNone\u001b[39;00m, axis\u001b[38;5;241m=\u001b[39m\u001b[38;5;28;01mNone\u001b[39;00m, keepdims\u001b[38;5;241m=\u001b[39m\u001b[38;5;28;01mFalse\u001b[39;00m):\n",
      "\u001b[0;31mKeyboardInterrupt\u001b[0m: "
     ]
    }
   ],
   "source": [
    "kmeans = KMeans(K=10)\n",
    "\n",
    "cluster_assignments, centroids = kmeans.fit(X_train)\n",
    "\n",
    "for i in range(10):\n",
    "    plt.subplot(2, 5, i+1)\n",
    "    plt.imshow(centroids[i].reshape(28, 28), cmap='gray')\n",
    "    plt.title(f\"Centroid {i}\")\n",
    "    plt.axis('off')\n",
    "\n",
    "plt.show()\n"
   ]
  },
  {
   "cell_type": "code",
   "execution_count": 6,
   "metadata": {},
   "outputs": [
    {
     "name": "stdout",
     "output_type": "stream",
     "text": [
      "Training Dataset Size: 11314\n",
      "Testing Dataset Size: 7532\n",
      "Number of Classes: 20\n",
      "Training Data Shape: (11314, 5000), Training Labels Shape: (11314,)\n",
      "Test Data Shape: (7532, 5000), Test Labels Shape: (7532,)\n"
     ]
    }
   ],
   "source": [
    "from sklearn.datasets import load_files\n",
    "import numpy as np\n",
    "from sklearn.feature_extraction.text import TfidfVectorizer\n",
    "\n",
    "newsgroups_train = load_files('../Dataset/20news-bydate/20news-bydate-train', encoding='ISO-8859-1')\n",
    "newsgroups_test = load_files('../Dataset/20news-bydate/20news-bydate-test', encoding='ISO-8859-1')\n",
    "\n",
    "X_train_raw, y_train = newsgroups_train.data, newsgroups_train.target\n",
    "X_test_raw, y_test = newsgroups_test.data, newsgroups_test.target\n",
    "\n",
    "print('Training Dataset Size:', len(X_train_raw))\n",
    "print('Testing Dataset Size:', len(X_test_raw))\n",
    "print('Number of Classes:', len(newsgroups_train.target_names))\n",
    "\n",
    "vectorizer = TfidfVectorizer(max_features=5000) \n",
    "X_train = vectorizer.fit_transform(X_train_raw).toarray()\n",
    "X_test = vectorizer.transform(X_test_raw).toarray()\n",
    "\n",
    "print(f\"Training Data Shape: {X_train.shape}, Training Labels Shape: {y_train.shape}\")\n",
    "print(f\"Test Data Shape: {X_test.shape}, Test Labels Shape: {y_test.shape}\")\n"
   ]
  },
  {
   "cell_type": "code",
   "execution_count": 11,
   "metadata": {},
   "outputs": [
    {
     "ename": "AttributeError",
     "evalue": "'KMeans' object has no attribute 'compute_distances'",
     "output_type": "error",
     "traceback": [
      "\u001b[0;31m---------------------------------------------------------------------------\u001b[0m",
      "\u001b[0;31mAttributeError\u001b[0m                            Traceback (most recent call last)",
      "Cell \u001b[0;32mIn[11], line 3\u001b[0m\n\u001b[1;32m      1\u001b[0m kmeans \u001b[38;5;241m=\u001b[39m KMeans(\u001b[38;5;241m20\u001b[39m,\u001b[38;5;241m100\u001b[39m,\u001b[38;5;241m1e-5\u001b[39m)\n\u001b[0;32m----> 3\u001b[0m \u001b[43mkmeans\u001b[49m\u001b[38;5;241;43m.\u001b[39;49m\u001b[43mfit\u001b[49m\u001b[43m(\u001b[49m\u001b[43mX_train\u001b[49m\u001b[43m)\u001b[49m\n\u001b[1;32m      5\u001b[0m \u001b[38;5;28mprint\u001b[39m(\u001b[38;5;124mf\u001b[39m\u001b[38;5;124m\"\u001b[39m\u001b[38;5;124mFinal Objective Function Value: \u001b[39m\u001b[38;5;132;01m{\u001b[39;00mkmeans\u001b[38;5;241m.\u001b[39mobjective_value\u001b[38;5;132;01m}\u001b[39;00m\u001b[38;5;124m\"\u001b[39m)\n\u001b[1;32m      6\u001b[0m \u001b[38;5;28mprint\u001b[39m(\u001b[38;5;124mf\u001b[39m\u001b[38;5;124m\"\u001b[39m\u001b[38;5;124mFinal Centroids Shape: \u001b[39m\u001b[38;5;132;01m{\u001b[39;00mkmeans\u001b[38;5;241m.\u001b[39mcentroids\u001b[38;5;241m.\u001b[39mshape\u001b[38;5;132;01m}\u001b[39;00m\u001b[38;5;124m\"\u001b[39m)\n",
      "Cell \u001b[0;32mIn[10], line 36\u001b[0m, in \u001b[0;36mKMeans.fit\u001b[0;34m(self, X)\u001b[0m\n\u001b[1;32m     34\u001b[0m \u001b[38;5;28mself\u001b[39m\u001b[38;5;241m.\u001b[39mcentroids_init(X)\n\u001b[1;32m     35\u001b[0m \u001b[38;5;28;01mfor\u001b[39;00m i \u001b[38;5;129;01min\u001b[39;00m \u001b[38;5;28mrange\u001b[39m(\u001b[38;5;28mself\u001b[39m\u001b[38;5;241m.\u001b[39mmax_iter):\n\u001b[0;32m---> 36\u001b[0m     labels \u001b[38;5;241m=\u001b[39m \u001b[38;5;28;43mself\u001b[39;49m\u001b[38;5;241;43m.\u001b[39;49m\u001b[43massign_cluster\u001b[49m\u001b[43m(\u001b[49m\u001b[43mX\u001b[49m\u001b[43m)\u001b[49m\n\u001b[1;32m     37\u001b[0m     new_centroids \u001b[38;5;241m=\u001b[39m \u001b[38;5;28mself\u001b[39m\u001b[38;5;241m.\u001b[39mupdate_centroids(X,labels)\n\u001b[1;32m     38\u001b[0m     \u001b[38;5;28;01mif\u001b[39;00m np\u001b[38;5;241m.\u001b[39mlinalg\u001b[38;5;241m.\u001b[39mnorm(new_centroids \u001b[38;5;241m-\u001b[39m \u001b[38;5;28mself\u001b[39m\u001b[38;5;241m.\u001b[39mcentroids) \u001b[38;5;241m<\u001b[39m \u001b[38;5;28mself\u001b[39m\u001b[38;5;241m.\u001b[39mdiff:\n",
      "Cell \u001b[0;32mIn[10], line 21\u001b[0m, in \u001b[0;36mKMeans.assign_cluster\u001b[0;34m(self, X)\u001b[0m\n\u001b[1;32m     20\u001b[0m \u001b[38;5;28;01mdef\u001b[39;00m\u001b[38;5;250m \u001b[39m\u001b[38;5;21massign_cluster\u001b[39m(\u001b[38;5;28mself\u001b[39m,X):\n\u001b[0;32m---> 21\u001b[0m     distances \u001b[38;5;241m=\u001b[39m \u001b[38;5;28;43mself\u001b[39;49m\u001b[38;5;241;43m.\u001b[39;49m\u001b[43mcompute_distances\u001b[49m(X,\u001b[38;5;28mself\u001b[39m\u001b[38;5;241m.\u001b[39mcentroids)\n\u001b[1;32m     22\u001b[0m     cluster \u001b[38;5;241m=\u001b[39m np\u001b[38;5;241m.\u001b[39margmin(distances,axis\u001b[38;5;241m=\u001b[39m\u001b[38;5;241m1\u001b[39m)\n\u001b[1;32m     23\u001b[0m     \u001b[38;5;28;01mreturn\u001b[39;00m cluster\n",
      "\u001b[0;31mAttributeError\u001b[0m: 'KMeans' object has no attribute 'compute_distances'"
     ]
    }
   ],
   "source": [
    "kmeans = KMeans(20,100,1e-5)\n",
    "\n",
    "kmeans.fit(X_train)\n",
    "\n",
    "print(f\"Final Objective Function Value: {kmeans.objective_value}\")\n",
    "print(f\"Final Centroids Shape: {kmeans.centroids.shape}\")\n",
    "print(f\"Cluster Assignments (First 10 Data Points): {kmeans.final_labels[:10]}\")\n"
   ]
  },
  {
   "cell_type": "code",
   "execution_count": null,
   "metadata": {},
   "outputs": [],
   "source": []
  }
 ],
 "metadata": {
  "kernelspec": {
   "display_name": ".venv",
   "language": "python",
   "name": "python3"
  },
  "language_info": {
   "codemirror_mode": {
    "name": "ipython",
    "version": 3
   },
   "file_extension": ".py",
   "mimetype": "text/x-python",
   "name": "python",
   "nbconvert_exporter": "python",
   "pygments_lexer": "ipython3",
   "version": "3.13.1"
  }
 },
 "nbformat": 4,
 "nbformat_minor": 2
}
