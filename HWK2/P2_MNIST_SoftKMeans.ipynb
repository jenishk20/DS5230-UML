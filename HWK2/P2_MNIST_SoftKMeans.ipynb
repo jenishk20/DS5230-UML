{
 "cells": [
  {
   "cell_type": "code",
   "execution_count": 2,
   "id": "1d3b078b-a1f9-40b4-b2a6-80dd134e007b",
   "metadata": {},
   "outputs": [],
   "source": [
    "import numpy as np\n",
    "import pandas as pd\n",
    "import matplotlib.pyplot as plt\n",
    "from sklearn.model_selection import train_test_split\n",
    "import random\n",
    "from scipy.stats import mode\n",
    "from scipy.spatial.distance import cdist\n",
    "from collections import Counter"
   ]
  },
  {
   "cell_type": "code",
   "execution_count": 3,
   "id": "539770cb-72ff-4a51-9685-8af36da63613",
   "metadata": {},
   "outputs": [
    {
     "name": "stdout",
     "output_type": "stream",
     "text": [
      "Training Data Shape: (55998, 784), Training Labels Shape: (55998,)\n",
      "Test Data Shape: (9999, 784), Test Labels Shape: (9999,)\n"
     ]
    }
   ],
   "source": [
    "train_data = pd.read_csv('mnist_train.csv')\n",
    "y_train_full = train_data.iloc[:, 0].values\n",
    "X_train_full = train_data.iloc[:, 1:].values\n",
    " \n",
    "test_data = pd.read_csv('mnist_test.csv')\n",
    "y_test = test_data.iloc[:, 0].values\n",
    "X_test = test_data.iloc[:, 1:].values\n",
    " \n",
    "X_train_full = X_train_full / 255.0\n",
    "X_test = X_test / 255.0\n",
    " \n",
    " \n",
    "X_combined = np.vstack((X_train_full, X_test))\n",
    "y_combined = np.hstack((y_train_full, y_test))\n",
    " \n",
    " \n",
    "X_train, X_remaining, y_train, y_remaining = train_test_split(\n",
    "    X_combined, y_combined, test_size=0.2, random_state=42, stratify=y_combined\n",
    ")\n",
    " \n",
    "print(f\"Training Data Shape: {X_train.shape}, Training Labels Shape: {y_train.shape}\")\n",
    "print(f\"Test Data Shape: {X_test.shape}, Test Labels Shape: {y_test.shape}\")"
   ]
  },
  {
   "cell_type": "code",
   "execution_count": null,
   "id": "8af6db63-6ffe-4f16-b720-5db6b4d8c11f",
   "metadata": {},
   "outputs": [],
   "source": [
    "class SoftKMeans:\n",
    "    def __init__(self,k=10,beta=0.1,max_iter = 100, diff = 1e-4):\n",
    "        self.k = k\n",
    "        self.beta = beta\n",
    "        self.centroids = None\n",
    "        self.max_iter = max_iter\n",
    "        self.diff = diff\n",
    "        self.pi_ik = None\n",
    "        \n",
    "    def initialize_clusters(self,X):\n",
    "        np.random.seed(42)\n",
    "        indices = np.random.choice(X.shape[0],self.k,replace = False)\n",
    "        self.centroids = X[indices]\n",
    "    \n",
    "    def compute_distance(self,X):\n",
    "        distances = np.linalg.norm(X[:, np.newaxis] - self.centroids, axis=2)\n",
    "        exponent_power = np.exp(-self.beta * distances)\n",
    "        self.pi_ik = exponent_power / np.sum(exponent_power, axis=1, keepdims=True)\n",
    "        return self.pi_ik\n",
    "    \n",
    "    def update_centroids(self,X):\n",
    "        self.centroids = (self.pi_ik.T @ X) / np.sum(self.pi_ik, axis=0)[:, np.newaxis]\n",
    "    \n",
    "    def fit(self, X):\n",
    "        self.initialize_clusters(X)\n",
    "    \n",
    "        for i in range(self.max_iter):\n",
    "\n",
    "            old_centroids = self.centroids.copy()\n",
    "\n",
    "            self.compute_distance(X)\n",
    "            self.update_centroids(X)\n",
    "\n",
    "            if np.linalg.norm(self.centroids - old_centroids) < self.diff:\n",
    "                break\n",
    "                \n",
    "    def predict(self, X):\n",
    "        self.compute_distance(X)\n",
    "        return np.argmax(self.pi_ik, axis=1)\n",
    "        "
   ]
  },
  {
   "cell_type": "code",
   "execution_count": 5,
   "id": "afbc8182-47a6-46f4-a223-dc61a5818890",
   "metadata": {},
   "outputs": [],
   "source": [
    "def calculate_purity(y_true, y_pred, K):\n",
    "    purity = 0\n",
    "    for i in range(K):\n",
    "        cluster_labels = y_true[y_pred == i]\n",
    "        if len(cluster_labels) > 0:\n",
    "            majority_class = mode(cluster_labels).mode[0]\n",
    "            purity += np.sum(cluster_labels == majority_class)\n",
    "    return purity / len(y_true)\n"
   ]
  },
  {
   "cell_type": "code",
   "execution_count": 6,
   "id": "6626e2f4-6d73-4feb-8bda-1a41a1374b5e",
   "metadata": {},
   "outputs": [
    {
     "name": "stdout",
     "output_type": "stream",
     "text": [
      "Beta: 0.1\n",
      "Objective Value: 3692313.3908608477\n",
      "Purity: 0.26686476756478755\n",
      "Gini Index: 0.7371381105801285\n",
      "------------------------------\n",
      "Beta: 1\n",
      "Objective Value: 3692313.390788205\n",
      "Purity: 0.20949169976285037\n",
      "Gini Index: 0.7910950348893235\n",
      "------------------------------\n",
      "Beta: 10\n",
      "Objective Value: 2760141.185328836\n",
      "Purity: 0.5890311151747193\n",
      "Gini Index: 0.5071621009829562\n",
      "------------------------------\n"
     ]
    }
   ],
   "source": [
    "from collections import Counter\n",
    "import numpy as np\n",
    "from scipy.spatial.distance import cdist\n",
    "\n",
    "results = {}\n",
    "\n",
    "beta = [0.1, 1, 10]\n",
    "\n",
    "for b in beta:\n",
    "    soft_kmeans = SoftKMeans(k=10, beta=b, max_iter=100)\n",
    "    soft_kmeans.fit(X_train)\n",
    "    y_pred = soft_kmeans.predict(X_combined)\n",
    "\n",
    "    # Compute distances\n",
    "    distances = cdist(X_combined, soft_kmeans.centroids, metric='euclidean')\n",
    "    weights = soft_kmeans.compute_distance(X_combined)\n",
    "    objective_value = np.sum(weights * distances**2)\n",
    "\n",
    "    # Assign cluster labels\n",
    "    cluster_labels = []\n",
    "    for k in range(soft_kmeans.k):\n",
    "        cluster_indices = np.where(y_pred == k)[0]\n",
    "        if len(cluster_indices) > 0:\n",
    "            class_counts = Counter(y_combined[cluster_indices])\n",
    "            cluster_labels.append(class_counts.most_common(1)[0][0])\n",
    "        else:\n",
    "            cluster_labels.append(-1)\n",
    "\n",
    "    purity = np.mean([1 if y_combined[i] == cluster_labels[y_pred[i]] else 0 for i in range(len(y_pred))])\n",
    "\n",
    "    gini_index = 1 - np.mean([\n",
    "        sum((count / sum(class_counts.values())) ** 2 for count in class_counts.values())\n",
    "        for class_counts in [Counter(y_combined[y_pred == k]) for k in range(soft_kmeans.k)]\n",
    "        if sum(class_counts.values()) > 0  # Avoid division by zero\n",
    "    ])\n",
    "\n",
    "    results[b] = (objective_value, purity, gini_index)\n",
    "\n",
    "for b, (obj_val, pur, gini) in results.items():\n",
    "    print(f\"Beta: {b}\")\n",
    "    print(f\"Objective Value: {obj_val}\")\n",
    "    print(f\"Purity: {pur}\")\n",
    "    print(f\"Gini Index: {gini}\")\n",
    "    print(\"-\" * 30)\n"
   ]
  },
  {
   "cell_type": "code",
   "execution_count": null,
   "id": "c225823e-5e1d-4bb0-8a1e-16b4c81eb5ba",
   "metadata": {},
   "outputs": [],
   "source": []
  }
 ],
 "metadata": {
  "kernelspec": {
   "display_name": "Python 3 (ipykernel)",
   "language": "python",
   "name": "python3"
  },
  "language_info": {
   "codemirror_mode": {
    "name": "ipython",
    "version": 3
   },
   "file_extension": ".py",
   "mimetype": "text/x-python",
   "name": "python",
   "nbconvert_exporter": "python",
   "pygments_lexer": "ipython3",
   "version": "3.9.12"
  }
 },
 "nbformat": 4,
 "nbformat_minor": 5
}
