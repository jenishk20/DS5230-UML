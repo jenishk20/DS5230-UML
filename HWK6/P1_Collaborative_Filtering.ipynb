{
 "cells": [
  {
   "cell_type": "code",
   "execution_count": 22,
   "metadata": {},
   "outputs": [],
   "source": [
    "import pandas as pd\n",
    "import numpy as np\n",
    "import math\n",
    "import matplotlib.pyplot as plt\n",
    "from sklearn.model_selection import train_test_split\n",
    "from sklearn.metrics.pairwise import cosine_similarity\n",
    "from sklearn.metrics import mean_squared_error"
   ]
  },
  {
   "cell_type": "code",
   "execution_count": 14,
   "metadata": {},
   "outputs": [
    {
     "data": {
      "text/html": [
       "<div>\n",
       "<style scoped>\n",
       "    .dataframe tbody tr th:only-of-type {\n",
       "        vertical-align: middle;\n",
       "    }\n",
       "\n",
       "    .dataframe tbody tr th {\n",
       "        vertical-align: top;\n",
       "    }\n",
       "\n",
       "    .dataframe thead th {\n",
       "        text-align: right;\n",
       "    }\n",
       "</style>\n",
       "<table border=\"1\" class=\"dataframe\">\n",
       "  <thead>\n",
       "    <tr style=\"text-align: right;\">\n",
       "      <th></th>\n",
       "      <th>user_id</th>\n",
       "      <th>item_id</th>\n",
       "      <th>rating</th>\n",
       "      <th>timestamp</th>\n",
       "    </tr>\n",
       "  </thead>\n",
       "  <tbody>\n",
       "    <tr>\n",
       "      <th>0</th>\n",
       "      <td>196</td>\n",
       "      <td>242</td>\n",
       "      <td>3</td>\n",
       "      <td>881250949</td>\n",
       "    </tr>\n",
       "    <tr>\n",
       "      <th>1</th>\n",
       "      <td>186</td>\n",
       "      <td>302</td>\n",
       "      <td>3</td>\n",
       "      <td>891717742</td>\n",
       "    </tr>\n",
       "    <tr>\n",
       "      <th>2</th>\n",
       "      <td>22</td>\n",
       "      <td>377</td>\n",
       "      <td>1</td>\n",
       "      <td>878887116</td>\n",
       "    </tr>\n",
       "    <tr>\n",
       "      <th>3</th>\n",
       "      <td>244</td>\n",
       "      <td>51</td>\n",
       "      <td>2</td>\n",
       "      <td>880606923</td>\n",
       "    </tr>\n",
       "    <tr>\n",
       "      <th>4</th>\n",
       "      <td>166</td>\n",
       "      <td>346</td>\n",
       "      <td>1</td>\n",
       "      <td>886397596</td>\n",
       "    </tr>\n",
       "  </tbody>\n",
       "</table>\n",
       "</div>"
      ],
      "text/plain": [
       "   user_id  item_id  rating  timestamp\n",
       "0      196      242       3  881250949\n",
       "1      186      302       3  891717742\n",
       "2       22      377       1  878887116\n",
       "3      244       51       2  880606923\n",
       "4      166      346       1  886397596"
      ]
     },
     "execution_count": 14,
     "metadata": {},
     "output_type": "execute_result"
    }
   ],
   "source": [
    "columns = ['user_id', 'item_id', 'rating', 'timestamp']\n",
    "df = pd.read_csv('ml-100k/u.data', sep='\\t', names=columns)\n",
    "\n",
    "df.head()"
   ]
  },
  {
   "cell_type": "code",
   "execution_count": 15,
   "metadata": {},
   "outputs": [
    {
     "name": "stdout",
     "output_type": "stream",
     "text": [
      "(943, 1682)\n"
     ]
    }
   ],
   "source": [
    "df.drop('timestamp', axis=1, inplace=True)\n",
    "\n",
    "rating_matrix = df.pivot(index='user_id', columns='item_id', values='rating')\n",
    "\n",
    "print(rating_matrix.shape)  "
   ]
  },
  {
   "cell_type": "code",
   "execution_count": 24,
   "metadata": {},
   "outputs": [
    {
     "name": "stdout",
     "output_type": "stream",
     "text": [
      "(943, 1653)\n",
      "item_id  1     2     3     4     5     6     7     8     9     10    ...  \\\n",
      "user_id                                                              ...   \n",
      "1         NaN   3.0   4.0   NaN   3.0   NaN   4.0   NaN   5.0   3.0  ...   \n",
      "2         4.0   NaN   NaN   NaN   NaN   NaN   NaN   NaN   NaN   NaN  ...   \n",
      "3         NaN   NaN   NaN   NaN   NaN   NaN   NaN   NaN   NaN   NaN  ...   \n",
      "4         NaN   NaN   NaN   NaN   NaN   NaN   NaN   NaN   NaN   NaN  ...   \n",
      "5         4.0   NaN   NaN   NaN   NaN   NaN   NaN   NaN   NaN   NaN  ...   \n",
      "\n",
      "item_id  1668  1670  1671  1672  1673  1676  1678  1679  1680  1681  \n",
      "user_id                                                              \n",
      "1         NaN   NaN   NaN   NaN   NaN   NaN   NaN   NaN   NaN   NaN  \n",
      "2         NaN   NaN   NaN   NaN   NaN   NaN   NaN   NaN   NaN   NaN  \n",
      "3         NaN   NaN   NaN   NaN   NaN   NaN   NaN   NaN   NaN   NaN  \n",
      "4         NaN   NaN   NaN   NaN   NaN   NaN   NaN   NaN   NaN   NaN  \n",
      "5         NaN   NaN   NaN   NaN   NaN   NaN   NaN   NaN   NaN   NaN  \n",
      "\n",
      "[5 rows x 1653 columns]\n"
     ]
    }
   ],
   "source": [
    "train_df, test_df = train_test_split(df, test_size=0.2, random_state=42)\n",
    "train_matrix = train_df.pivot(index='user_id', columns='item_id', values='rating')\n",
    "\n",
    "print(train_matrix.shape)\n",
    "\n",
    "print(train_matrix.head())"
   ]
  },
  {
   "cell_type": "code",
   "execution_count": 25,
   "metadata": {},
   "outputs": [
    {
     "name": "stdout",
     "output_type": "stream",
     "text": [
      "user_id       1         2         3         4         5         6         7    \\\n",
      "user_id                                                                         \n",
      "1        1.000000  0.136196  0.030424  0.026203  0.284613  0.331412  0.319056   \n",
      "2        0.136196  1.000000  0.114644  0.168220  0.093128  0.162165  0.095848   \n",
      "3        0.030424  0.114644  1.000000  0.346894  0.000000  0.085071  0.032829   \n",
      "4        0.026203  0.168220  0.346894  1.000000  0.011848  0.051287  0.075209   \n",
      "5        0.284613  0.093128  0.000000  0.011848  1.000000  0.168527  0.298438   \n",
      "\n",
      "user_id       8         9         10   ...       934       935       936  \\\n",
      "user_id                                ...                                 \n",
      "1        0.274139  0.083486  0.281396  ...  0.277459  0.084849  0.205849   \n",
      "2        0.091360  0.149476  0.125701  ...  0.149359  0.268977  0.320095   \n",
      "3        0.053875  0.060177  0.052552  ...  0.021713  0.017707  0.154299   \n",
      "4        0.142100  0.060465  0.035202  ...  0.034908  0.044480  0.087428   \n",
      "5        0.185290  0.039737  0.166013  ...  0.276012  0.103529  0.085547   \n",
      "\n",
      "user_id       937       938       939       940       941       942       943  \n",
      "user_id                                                                        \n",
      "1        0.144161  0.133679  0.092367  0.216948  0.084181  0.104599  0.329288  \n",
      "2        0.323347  0.241012  0.152655  0.230951  0.117484  0.166632  0.096719  \n",
      "3        0.049358  0.107604  0.019022  0.101207  0.021959  0.127179  0.013805  \n",
      "4        0.118082  0.100612  0.000000  0.151086  0.110324  0.112342  0.032367  \n",
      "5        0.072429  0.104445  0.049198  0.204472  0.148028  0.099978  0.247527  \n",
      "\n",
      "[5 rows x 943 columns]\n"
     ]
    }
   ],
   "source": [
    "filled_matrix = train_matrix.fillna(0)\n",
    "user_similarity = cosine_similarity(filled_matrix)\n",
    "user_similarity = pd.DataFrame(user_similarity, \n",
    "                               index=filled_matrix.index, \n",
    "                               columns=filled_matrix.index)\n",
    "\n",
    "print(user_similarity.head())\n"
   ]
  },
  {
   "cell_type": "code",
   "execution_count": 26,
   "metadata": {},
   "outputs": [],
   "source": [
    "def predict_rating(user_id, item_id, k=5):\n",
    "    if item_id not in train_matrix.columns:\n",
    "        return 3.0\n",
    "\n",
    "    item_ratings = train_matrix[item_id].dropna()\n",
    "\n",
    "    if user_id not in user_similarity:\n",
    "        return item_ratings.mean()\n",
    "\n",
    "    similarities = user_similarity.loc[user_id, item_ratings.index]\n",
    "    top_k_users = similarities.nlargest(k)\n",
    "\n",
    "    numerator = 0\n",
    "    denominator = 0\n",
    "    for sim_user, sim_score in top_k_users.items():\n",
    "        rating = train_matrix.at[sim_user, item_id]\n",
    "        if np.isnan(rating):\n",
    "            continue\n",
    "        numerator += sim_score * rating\n",
    "        denominator += abs(sim_score)\n",
    "\n",
    "    if denominator == 0:\n",
    "        return item_ratings.mean()\n",
    "\n",
    "    return numerator / denominator\n"
   ]
  },
  {
   "cell_type": "code",
   "execution_count": null,
   "metadata": {},
   "outputs": [
    {
     "name": "stdout",
     "output_type": "stream",
     "text": [
      "RMSE: 1.0613934416462578\n"
     ]
    }
   ],
   "source": [
    "predictions = []\n",
    "truths = []\n",
    "\n",
    "for _, row in test_df.iterrows():\n",
    "    user, item, true_rating = row['user_id'], row['item_id'], row['rating']\n",
    "    pred_rating = predict_rating(user, item, k=5)\n",
    "    predictions.append(pred_rating)\n",
    "    truths.append(true_rating)\n",
    "\n",
    "rmse = math.sqrt(mean_squared_error(truths, predictions))\n",
    "print(\"RMSE:\", rmse)\n"
   ]
  },
  {
   "cell_type": "code",
   "execution_count": null,
   "metadata": {},
   "outputs": [],
   "source": []
  }
 ],
 "metadata": {
  "kernelspec": {
   "display_name": "myenv",
   "language": "python",
   "name": "python3"
  },
  "language_info": {
   "codemirror_mode": {
    "name": "ipython",
    "version": 3
   },
   "file_extension": ".py",
   "mimetype": "text/x-python",
   "name": "python",
   "nbconvert_exporter": "python",
   "pygments_lexer": "ipython3",
   "version": "3.13.2"
  }
 },
 "nbformat": 4,
 "nbformat_minor": 2
}
