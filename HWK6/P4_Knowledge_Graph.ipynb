{
 "cells": [
  {
   "cell_type": "code",
   "execution_count": 1,
   "metadata": {},
   "outputs": [],
   "source": [
    "from collections import defaultdict\n",
    "\n",
    "def load_graph(path='../data/Graphs/graph.txt'):\n",
    "    graph = defaultdict(list)\n",
    "    with open(path, 'r') as f:\n",
    "        for line in f:\n",
    "            src, rel, dst = eval(line.strip())\n",
    "            graph[src].append((rel, dst))\n",
    "    return graph\n"
   ]
  },
  {
   "cell_type": "code",
   "execution_count": 2,
   "metadata": {},
   "outputs": [],
   "source": [
    "def load_queries(path='../data/Graphs/annotations.txt'):\n",
    "    queries = []\n",
    "    with open(path, 'r') as f:\n",
    "        for line in f:\n",
    "            qid, question, start_node, _, _, answers = eval(line.strip())\n",
    "            answer_ids = {ans['AnswerArgument'] for ans in answers}\n",
    "            queries.append({\n",
    "                'qid': qid,\n",
    "                'question': question,\n",
    "                'start_node': start_node,\n",
    "                'answers': answer_ids\n",
    "            })\n",
    "    return queries\n"
   ]
  },
  {
   "cell_type": "code",
   "execution_count": 3,
   "metadata": {},
   "outputs": [],
   "source": [
    "import json\n",
    "\n",
    "def load_vertex_lookup(path='../data/Graphs/vertex_lookup.json'):\n",
    "    with open(path, 'r') as f:\n",
    "        return json.load(f)\n"
   ]
  },
  {
   "cell_type": "code",
   "execution_count": 5,
   "metadata": {},
   "outputs": [
    {
     "ename": "ModuleNotFoundError",
     "evalue": "No module named 'gensim'",
     "output_type": "error",
     "traceback": [
      "\u001b[31m---------------------------------------------------------------------------\u001b[39m",
      "\u001b[31mModuleNotFoundError\u001b[39m                       Traceback (most recent call last)",
      "\u001b[36mCell\u001b[39m\u001b[36m \u001b[39m\u001b[32mIn[5]\u001b[39m\u001b[32m, line 1\u001b[39m\n\u001b[32m----> \u001b[39m\u001b[32m1\u001b[39m \u001b[38;5;28;01mfrom\u001b[39;00m\u001b[38;5;250m \u001b[39m\u001b[34;01mgensim\u001b[39;00m\u001b[38;5;250m \u001b[39m\u001b[38;5;28;01mimport\u001b[39;00m models\n\u001b[32m      2\u001b[39m \u001b[38;5;28;01mfrom\u001b[39;00m\u001b[38;5;250m \u001b[39m\u001b[34;01mnltk\u001b[39;00m\u001b[38;5;250m \u001b[39m\u001b[38;5;28;01mimport\u001b[39;00m word_tokenize\n\u001b[32m      3\u001b[39m \u001b[38;5;28;01mimport\u001b[39;00m\u001b[38;5;250m \u001b[39m\u001b[34;01mnumpy\u001b[39;00m\u001b[38;5;250m \u001b[39m\u001b[38;5;28;01mas\u001b[39;00m\u001b[38;5;250m \u001b[39m\u001b[34;01mnp\u001b[39;00m\n",
      "\u001b[31mModuleNotFoundError\u001b[39m: No module named 'gensim'"
     ]
    }
   ],
   "source": [
    "from gensim import models\n",
    "from nltk import word_tokenize\n",
    "import numpy as np\n",
    "\n",
    "word2vec_model = models.Word2Vec.load('wordvec.dat')\n",
    "\n",
    "def get_rel_score_word2vecbase(rel: str, query: str) -> float:\n",
    "    if rel not in word2vec_model.wv:\n",
    "        return 0.0\n",
    "    rel = 'ns:' + rel if not rel.startswith('ns:') else rel\n",
    "    words = word_tokenize(query.lower())\n",
    "    vectors = [word2vec_model.wv[w] for w in words if w in word2vec_model.wv]\n",
    "    if not vectors:\n",
    "        return 0.0\n",
    "    rel_vec = word2vec_model.wv[rel]\n",
    "    return float(np.mean([\n",
    "        np.dot(vec, rel_vec) / (np.linalg.norm(vec) * np.linalg.norm(rel_vec)) for vec in vectors\n",
    "    ]))\n"
   ]
  },
  {
   "cell_type": "code",
   "execution_count": 6,
   "metadata": {},
   "outputs": [],
   "source": [
    "import numpy as np\n",
    "from collections import deque\n",
    "from sklearn.metrics import f1_score\n",
    "\n",
    "def traverse_graph(graph, query, start_node, max_depth=2, score_threshold=0.25):\n",
    "    visited = set()\n",
    "    answers = set()\n",
    "    queue = deque([(start_node, 0)])\n",
    "\n",
    "    while queue:\n",
    "        current_node, depth = queue.popleft()\n",
    "        if depth > max_depth:\n",
    "            continue\n",
    "        visited.add(current_node)\n",
    "        for rel, neighbor in graph.get(current_node, []):\n",
    "            if neighbor in visited:\n",
    "                continue\n",
    "            score = get_rel_score_word2vecbase(rel, query)\n",
    "            if score >= score_threshold:\n",
    "                answers.add(neighbor)\n",
    "                queue.append((neighbor, depth + 1))\n",
    "    return answers\n"
   ]
  },
  {
   "cell_type": "code",
   "execution_count": 7,
   "metadata": {},
   "outputs": [],
   "source": [
    "def evaluate_all_queries(graph, queries):\n",
    "    f1s = []\n",
    "    for q in queries:\n",
    "        predicted = traverse_graph(graph, q['question'], q['start_node'])\n",
    "        true = q['answers']\n",
    "        all_ids = list(predicted.union(true))\n",
    "        y_true = [1 if x in true else 0 for x in all_ids]\n",
    "        y_pred = [1 if x in predicted else 0 for x in all_ids]\n",
    "        score = f1_score(y_true, y_pred)\n",
    "        print(f\"Q{q['qid']}: {q['question']}\\nF1: {score:.2f}\\n\")\n",
    "        f1s.append(score)\n",
    "    print(f\"\\nAverage F1 across all queries: {np.mean(f1s):.3f}\")\n"
   ]
  },
  {
   "cell_type": "code",
   "execution_count": null,
   "metadata": {},
   "outputs": [],
   "source": [
    "    if __name__ == \"__main__\":\n",
    "        graph = load_graph('graph.txt')\n",
    "        queries = load_queries('questions.txt')\n",
    "        vertex_lookup = load_vertex_lookup('mapping.json')\n",
    "        \n",
    "        evaluate_all_queries(graph, queries)\n"
   ]
  }
 ],
 "metadata": {
  "kernelspec": {
   "display_name": "myenv",
   "language": "python",
   "name": "python3"
  },
  "language_info": {
   "codemirror_mode": {
    "name": "ipython",
    "version": 3
   },
   "file_extension": ".py",
   "mimetype": "text/x-python",
   "name": "python",
   "nbconvert_exporter": "python",
   "pygments_lexer": "ipython3",
   "version": "3.13.2"
  }
 },
 "nbformat": 4,
 "nbformat_minor": 2
}
