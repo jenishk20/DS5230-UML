{
 "cells": [
  {
   "cell_type": "code",
   "execution_count": null,
   "metadata": {},
   "outputs": [
    {
     "name": "stderr",
     "output_type": "stream",
     "text": [
      "[nltk_data] Downloading package punkt to\n",
      "[nltk_data]     /Users/jenishkothari/nltk_data...\n",
      "[nltk_data]   Package punkt is already up-to-date!\n"
     ]
    }
   ],
   "source": [
    "import nltk\n",
    "nltk.download('punkt')\n",
    "from sklearn.feature_extraction.text import CountVectorizer\n",
    "from scipy.stats import entropy\n",
    "import numpy as np"
   ]
  },
  {
   "cell_type": "code",
   "execution_count": null,
   "metadata": {},
   "outputs": [
    {
     "name": "stdout",
     "output_type": "stream",
     "text": [
      "Sentences:\n",
      "1: The moon mission launched today.\n",
      "2: NASA scientists are hopeful.\n",
      "3: The rocket is powered by new fuel.\n",
      "4: SpaceX contributed to the design.\n",
      "5: The mission is expected to orbit the moon twice.\n",
      "6: Many space enthusiasts are excited about the project.\n"
     ]
    }
   ],
   "source": [
    "document = \"\"\"The moon mission launched today. NASA scientists are hopeful. The rocket is powered by new fuel. SpaceX contributed to the design. The mission is expected to orbit the moon twice. Many space enthusiasts are excited about the project.\"\"\"\n",
    "\n",
    "sentences = nltk.sent_tokenize(document)\n",
    "\n",
    "print(\"Sentences:\")\n",
    "for i, s in enumerate(sentences):\n",
    "    print(f\"{i+1}: {s}\")"
   ]
  },
  {
   "cell_type": "code",
   "execution_count": 12,
   "metadata": {},
   "outputs": [],
   "source": [
    "vectorizer = CountVectorizer(stop_words='english')\n",
    "vectorizer.fit(sentences)\n",
    "\n",
    "doc_vector = vectorizer.transform([document])\n",
    "PD = np.asarray(doc_vector.sum(axis=0)).flatten()\n",
    "PD = PD + 1e-12\n",
    "PD = PD / PD.sum()"
   ]
  },
  {
   "cell_type": "code",
   "execution_count": 13,
   "metadata": {},
   "outputs": [],
   "source": [
    "def compute_ps(sent_list):\n",
    "    if not sent_list:\n",
    "        # Avoid zero probabilities: smooth all words\n",
    "        return np.ones(len(PD)) * 1e-12\n",
    "    vec = vectorizer.transform(sent_list)\n",
    "    ps = np.asarray(vec.sum(axis=0)).flatten()\n",
    "    return ps / ps.sum() if ps.sum() > 0 else np.ones_like(ps) * 1e-12"
   ]
  },
  {
   "cell_type": "code",
   "execution_count": 16,
   "metadata": {},
   "outputs": [],
   "source": [
    "summary = []\n",
    "remaining = sentences.copy()\n",
    "summary_length = 3 \n",
    "\n",
    "for _ in range(summary_length):\n",
    "    best_sentence, best_kl = None, float('inf')\n",
    "    for sent in remaining:\n",
    "        trial_summary = summary + [sent]\n",
    "        PS = compute_ps(trial_summary)\n",
    "        PS = PS + 1e-12\n",
    "        kl = entropy(PD, PS)\n",
    "        if kl < best_kl:\n",
    "            best_sentence, best_kl = sent, kl\n",
    "    if best_sentence:\n",
    "        summary.append(best_sentence)\n",
    "        remaining.remove(best_sentence)\n"
   ]
  },
  {
   "cell_type": "code",
   "execution_count": 17,
   "metadata": {},
   "outputs": [
    {
     "name": "stdout",
     "output_type": "stream",
     "text": [
      "\n",
      "Final KL-Sum Extractive Summary (Word-based):\n",
      "- The mission is expected to orbit the moon twice.\n",
      "- The rocket is powered by new fuel.\n",
      "- Many space enthusiasts are excited about the project.\n"
     ]
    }
   ],
   "source": [
    "print(\"\\nFinal KL-Sum Extractive Summary (Word-based):\")\n",
    "for s in summary:\n",
    "    print(\"-\", s)"
   ]
  },
  {
   "cell_type": "code",
   "execution_count": null,
   "metadata": {},
   "outputs": [],
   "source": []
  }
 ],
 "metadata": {
  "kernelspec": {
   "display_name": "myenv",
   "language": "python",
   "name": "python3"
  },
  "language_info": {
   "codemirror_mode": {
    "name": "ipython",
    "version": 3
   },
   "file_extension": ".py",
   "mimetype": "text/x-python",
   "name": "python",
   "nbconvert_exporter": "python",
   "pygments_lexer": "ipython3",
   "version": "3.13.2"
  }
 },
 "nbformat": 4,
 "nbformat_minor": 2
}
