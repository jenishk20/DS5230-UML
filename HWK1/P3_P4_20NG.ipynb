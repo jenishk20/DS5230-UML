{
 "cells": [
  {
   "cell_type": "code",
   "execution_count": 2,
   "metadata": {},
   "outputs": [],
   "source": [
    "import pandas as pd\n",
    "import numpy as np\n",
    "import matplotlib.pyplot as plt\n",
    "from sklearn.model_selection import train_test_split\n",
    "from collections import Counter\n",
    "from sklearn.datasets import load_files\n",
    "from sklearn.feature_extraction.text import TfidfVectorizer"
   ]
  },
  {
   "cell_type": "code",
   "execution_count": 3,
   "metadata": {},
   "outputs": [
    {
     "name": "stdout",
     "output_type": "stream",
     "text": [
      "Training Dataset Size:  11314\n",
      "Testing Dataset Size:  7532\n",
      "Number of Classes:  20\n",
      "Training Data Shape: (15076, 5000), Training Labels Shape: (15076,)\n",
      "Validation Data Shape: (1885, 5000), Validation Labels Shape: (1885,)\n",
      "Test Data Shape: (1885, 5000), Test Labels Shape: (1885,)\n"
     ]
    }
   ],
   "source": [
    "newsgroups_train = load_files('20news-bydate/20news-bydate-train', encoding='ISO-8859-1')\n",
    "newsgroups_test = load_files('20news-bydate/20news-bydate-test', encoding='ISO-8859-1')\n",
    "\n",
    "X_train_raw, y_train = newsgroups_train.data, newsgroups_train.target\n",
    "X_test_raw, y_test = newsgroups_test.data, newsgroups_test.target\n",
    "\n",
    "print('Training Dataset Size: ', len(X_train_raw))\n",
    "print('Testing Dataset Size: ', len(X_test_raw))\n",
    "print('Number of Classes: ', len(newsgroups_train.target_names))\n",
    "\n",
    "vectorizer = TfidfVectorizer(max_features=5000) \n",
    "X_train_full = vectorizer.fit_transform(X_train_raw).toarray()\n",
    "X_test_full = vectorizer.transform(X_test_raw).toarray()\n",
    "\n",
    "X_combined = np.vstack((X_train_full, X_test_full))\n",
    "y_combined = np.hstack((y_train, y_test))\n",
    "\n",
    "X_train, X_remaining, y_train, y_remaining = train_test_split(\n",
    "    X_combined, y_combined, test_size=0.2, random_state=42, stratify=y_combined\n",
    ")\n",
    "\n",
    "X_val, X_test, y_val, y_test = train_test_split(\n",
    "    X_remaining, y_remaining, test_size=0.5, random_state=42, stratify=y_remaining\n",
    ")\n",
    "\n",
    "print(f\"Training Data Shape: {X_train.shape}, Training Labels Shape: {y_train.shape}\")\n",
    "print(f\"Validation Data Shape: {X_val.shape}, Validation Labels Shape: {y_val.shape}\")\n",
    "print(f\"Test Data Shape: {X_test.shape}, Test Labels Shape: {y_test.shape}\")\n"
   ]
  },
  {
   "cell_type": "code",
   "execution_count": null,
   "metadata": {},
   "outputs": [],
   "source": [
    "import numpy as np\n",
    "\n",
    "def distance_calc(X_train, X_test):\n",
    "\n",
    "    X_train_normalized = X_train / np.linalg.norm(X_train, axis=1, keepdims=True)\n",
    "    X_test_normalized = X_test / np.linalg.norm(X_test, axis=1, keepdims=True)\n",
    "\n",
    "    cosine_similarity = X_test_normalized @ X_train_normalized.T\n",
    "    cosine_distance = 1 - cosine_similarity\n",
    "\n",
    "    return cosine_distance\n"
   ]
  },
  {
   "cell_type": "code",
   "execution_count": null,
   "metadata": {},
   "outputs": [],
   "source": [
    "import numpy as np\n",
    "\n",
    "def edit_distance(s1, s2):\n",
    "\n",
    "    m, n = len(s1), len(s2)\n",
    "\n",
    "    dp = np.zeros((m + 1, n + 1), dtype=int)\n",
    "\n",
    "    for i in range(m + 1):\n",
    "        dp[i][0] = i \n",
    "    for j in range(n + 1):\n",
    "        dp[0][j] = j \n",
    "\n",
    "    for i in range(1, m + 1):\n",
    "        for j in range(1, n + 1):\n",
    "            if s1[i - 1] == s2[j - 1]: \n",
    "                dp[i][j] = dp[i - 1][j - 1]\n",
    "            else:\n",
    "                \n",
    "                dp[i][j] = min(\n",
    "                    dp[i - 1][j] + 1, \n",
    "                    dp[i][j - 1] + 1,\n",
    "                    dp[i - 1][j - 1] + 1\n",
    "                )\n",
    "    return dp[m][n]\n"
   ]
  },
  {
   "cell_type": "code",
   "execution_count": 17,
   "metadata": {},
   "outputs": [],
   "source": [
    "def edit_distance_matrix(X_train_raw, X_test_raw):\n",
    "    distances = np.zeros((len(X_test_raw), len(X_train_raw)))\n",
    "\n",
    "    for i, test_doc in enumerate(X_test_raw):\n",
    "        for j, train_doc in enumerate(X_train_raw):\n",
    "            distances[i, j] = edit_distance(test_doc, train_doc)\n",
    "\n",
    "    return distances\n",
    "\n"
   ]
  },
  {
   "cell_type": "code",
   "execution_count": 8,
   "metadata": {},
   "outputs": [],
   "source": [
    "class KNNCustom:\n",
    "    def __init__(self,k):\n",
    "        self.k = k\n",
    "    \n",
    "    def predict(self,distance_matrix,y_train_labels):\n",
    "\n",
    "        predictions = []\n",
    "\n",
    "        for distances in distance_matrix:\n",
    "            nearest_indices = np.argsort(distances)[:self.k]\n",
    "            nearest_labels = y_train_labels[nearest_indices]\n",
    "            frequency_labels = Counter(nearest_labels)\n",
    "            winner = frequency_labels.most_common(1)[0][0]\n",
    "            predictions.append(winner)\n",
    "\n",
    "        return np.array(predictions)"
   ]
  },
  {
   "cell_type": "code",
   "execution_count": 10,
   "metadata": {},
   "outputs": [
    {
     "name": "stdout",
     "output_type": "stream",
     "text": [
      "Validation Accuracy: 78.14%\n",
      "Test Accuracy: 77.67%\n"
     ]
    }
   ],
   "source": [
    "distance_matrix_val = distance_calc(X_train, X_val)\n",
    "distance_matrix_test = distance_calc(X_train, X_test)\n",
    "\n",
    "knn = KNNCustom(k=5)\n",
    "\n",
    "y_val_pred = knn.predict(distance_matrix_val, y_train)\n",
    "y_test_pred = knn.predict(distance_matrix_test, y_train)\n",
    "\n",
    "accuracy_val = np.mean(y_val_pred == y_val)\n",
    "accuracy_test = np.mean(y_test_pred == y_test)\n",
    "\n",
    "print(f\"Validation Accuracy: {accuracy_val * 100:.2f}%\")\n",
    "print(f\"Test Accuracy: {accuracy_test * 100:.2f}%\")\n"
   ]
  },
  {
   "cell_type": "code",
   "execution_count": 18,
   "metadata": {},
   "outputs": [
    {
     "ename": "KeyboardInterrupt",
     "evalue": "",
     "output_type": "error",
     "traceback": [
      "\u001b[0;31m---------------------------------------------------------------------------\u001b[0m",
      "\u001b[0;31mKeyboardInterrupt\u001b[0m                         Traceback (most recent call last)",
      "Cell \u001b[0;32mIn[18], line 9\u001b[0m\n\u001b[1;32m      6\u001b[0m knn \u001b[38;5;241m=\u001b[39m KNeighborsClassifier(n_neighbors\u001b[38;5;241m=\u001b[39m\u001b[38;5;241m5\u001b[39m, metric\u001b[38;5;241m=\u001b[39m\u001b[38;5;124m'\u001b[39m\u001b[38;5;124mprecomputed\u001b[39m\u001b[38;5;124m'\u001b[39m)\n\u001b[1;32m      8\u001b[0m \u001b[38;5;66;03m# Fit the model using the edit distance matrix as the precomputed distance\u001b[39;00m\n\u001b[0;32m----> 9\u001b[0m knn\u001b[38;5;241m.\u001b[39mfit(\u001b[43medit_distance_matrix\u001b[49m\u001b[43m(\u001b[49m\u001b[43mX_train_raw\u001b[49m\u001b[43m,\u001b[49m\u001b[43m \u001b[49m\u001b[43mX_test_raw\u001b[49m\u001b[43m)\u001b[49m, y_train)\n\u001b[1;32m     11\u001b[0m \u001b[38;5;66;03m# Predict on the test set\u001b[39;00m\n\u001b[1;32m     12\u001b[0m edit_distances_test \u001b[38;5;241m=\u001b[39m edit_distance_matrix(X_train_raw, X_test_raw)  \u001b[38;5;66;03m# Calculate for test data\u001b[39;00m\n",
      "Cell \u001b[0;32mIn[17], line 6\u001b[0m, in \u001b[0;36medit_distance_matrix\u001b[0;34m(X_train_raw, X_test_raw)\u001b[0m\n\u001b[1;32m      4\u001b[0m \u001b[38;5;28;01mfor\u001b[39;00m i, test_doc \u001b[38;5;129;01min\u001b[39;00m \u001b[38;5;28menumerate\u001b[39m(X_test_raw):\n\u001b[1;32m      5\u001b[0m     \u001b[38;5;28;01mfor\u001b[39;00m j, train_doc \u001b[38;5;129;01min\u001b[39;00m \u001b[38;5;28menumerate\u001b[39m(X_train_raw):\n\u001b[0;32m----> 6\u001b[0m         distances[i, j] \u001b[38;5;241m=\u001b[39m \u001b[43medit_distance\u001b[49m\u001b[43m(\u001b[49m\u001b[43mtest_doc\u001b[49m\u001b[43m,\u001b[49m\u001b[43m \u001b[49m\u001b[43mtrain_doc\u001b[49m\u001b[43m)\u001b[49m\n\u001b[1;32m      8\u001b[0m \u001b[38;5;28;01mreturn\u001b[39;00m distances\n",
      "Cell \u001b[0;32mIn[15], line 25\u001b[0m, in \u001b[0;36medit_distance\u001b[0;34m(s1, s2)\u001b[0m\n\u001b[1;32m     22\u001b[0m             dp[i][j] \u001b[38;5;241m=\u001b[39m dp[i \u001b[38;5;241m-\u001b[39m \u001b[38;5;241m1\u001b[39m][j \u001b[38;5;241m-\u001b[39m \u001b[38;5;241m1\u001b[39m]\n\u001b[1;32m     23\u001b[0m         \u001b[38;5;28;01melse\u001b[39;00m:\n\u001b[1;32m     24\u001b[0m             \u001b[38;5;66;03m# Calculate the minimum of insertion, deletion, and substitution\u001b[39;00m\n\u001b[0;32m---> 25\u001b[0m             dp[i][j] \u001b[38;5;241m=\u001b[39m \u001b[38;5;28mmin\u001b[39m(\n\u001b[1;32m     26\u001b[0m                 dp[i \u001b[38;5;241m-\u001b[39m \u001b[38;5;241m1\u001b[39m][j] \u001b[38;5;241m+\u001b[39m \u001b[38;5;241m1\u001b[39m,   \u001b[38;5;66;03m# Deletion\u001b[39;00m\n\u001b[1;32m     27\u001b[0m                 dp[i][j \u001b[38;5;241m-\u001b[39m \u001b[38;5;241m1\u001b[39m] \u001b[38;5;241m+\u001b[39m \u001b[38;5;241m1\u001b[39m,   \u001b[38;5;66;03m# Insertion\u001b[39;00m\n\u001b[1;32m     28\u001b[0m                 dp[i \u001b[38;5;241m-\u001b[39m \u001b[38;5;241m1\u001b[39m][j \u001b[38;5;241m-\u001b[39m \u001b[38;5;241m1\u001b[39m] \u001b[38;5;241m+\u001b[39m \u001b[38;5;241m1\u001b[39m  \u001b[38;5;66;03m# Substitution\u001b[39;00m\n\u001b[1;32m     29\u001b[0m             )\n\u001b[1;32m     31\u001b[0m \u001b[38;5;66;03m# The final answer is the bottom-right corner of the matrix\u001b[39;00m\n\u001b[1;32m     32\u001b[0m \u001b[38;5;28;01mreturn\u001b[39;00m dp[m][n]\n",
      "\u001b[0;31mKeyboardInterrupt\u001b[0m: "
     ]
    }
   ],
   "source": [
    "from sklearn.neighbors import KNeighborsClassifier\n",
    "from sklearn.metrics import accuracy_score\n",
    "\n",
    "knn = KNeighborsClassifier(n_neighbors=5, metric='precomputed')\n",
    "knn.fit(edit_distance_matrix(X_train_raw, X_test_raw), y_train)\n",
    "\n",
    "edit_distances_test = edit_distance_matrix(X_train_raw, X_test_raw)\n",
    "y_pred = knn.predict(edit_distances_test)\n",
    "\n",
    "accuracy = accuracy_score(y_test, y_pred)\n",
    "print(f\"Accuracy using Edit Distance: {accuracy}\")\n"
   ]
  },
  {
   "cell_type": "code",
   "execution_count": null,
   "metadata": {},
   "outputs": [
    {
     "name": "stdout",
     "output_type": "stream",
     "text": [
      "Validation Accuracy: 75.92%\n",
      "Test Accuracy: 74.80%\n"
     ]
    }
   ],
   "source": [
    "import numpy as np\n",
    "from sklearn.model_selection import train_test_split\n",
    "from sklearn.metrics import accuracy_score\n",
    "from sklearn.neighbors import KNeighborsClassifier\n",
    "from sklearn.metrics.pairwise import cosine_similarity\n",
    "\n",
    "knn = KNeighborsClassifier(n_neighbors=5, metric='cosine')\n",
    "knn.fit(X_train, y_train)\n",
    "y_val_pred = knn.predict(X_val)\n",
    "y_test_pred = knn.predict(X_test)\n",
    "\n",
    "val_accuracy = accuracy_score(y_val, y_val_pred)\n",
    "test_accuracy = accuracy_score(y_test, y_test_pred)\n",
    "\n",
    "print(f\"Validation Accuracy: {val_accuracy * 100:.2f}%\")\n",
    "print(f\"Test Accuracy: {test_accuracy * 100:.2f}%\")\n"
   ]
  },
  {
   "cell_type": "code",
   "execution_count": null,
   "metadata": {},
   "outputs": [],
   "source": []
  }
 ],
 "metadata": {
  "kernelspec": {
   "display_name": "MyEnv",
   "language": "python",
   "name": "python3"
  },
  "language_info": {
   "codemirror_mode": {
    "name": "ipython",
    "version": 3
   },
   "file_extension": ".py",
   "mimetype": "text/x-python",
   "name": "python",
   "nbconvert_exporter": "python",
   "pygments_lexer": "ipython3",
   "version": "3.13.1"
  }
 },
 "nbformat": 4,
 "nbformat_minor": 2
}
