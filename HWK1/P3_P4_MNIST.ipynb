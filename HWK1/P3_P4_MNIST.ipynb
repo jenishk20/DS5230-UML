{
 "cells": [
  {
   "cell_type": "code",
   "execution_count": 11,
   "metadata": {},
   "outputs": [],
   "source": [
    "import pandas as pd\n",
    "import numpy as np\n",
    "import matplotlib.pyplot as plt\n",
    "from sklearn.model_selection import train_test_split\n",
    "from collections import Counter"
   ]
  },
  {
   "cell_type": "code",
   "execution_count": 6,
   "metadata": {},
   "outputs": [
    {
     "name": "stdout",
     "output_type": "stream",
     "text": [
      "Training Data Shape: (55998, 784), Training Labels Shape: (55998,)\n",
      "Validation Data Shape: (7000, 784), Validation Labels Shape: (7000,)\n",
      "Test Data Shape: (7000, 784), Test Labels Shape: (7000,)\n"
     ]
    }
   ],
   "source": [
    "train_data = pd.read_csv('mnist_train.csv')\n",
    "y_train_full = train_data.iloc[:, 0].values\n",
    "X_train_full = train_data.iloc[:, 1:].values\n",
    " \n",
    "test_data = pd.read_csv('mnist_test.csv')\n",
    "y_test = test_data.iloc[:, 0].values\n",
    "X_test = test_data.iloc[:, 1:].values\n",
    " \n",
    "X_train_full = X_train_full / 255.0\n",
    "X_test = X_test / 255.0\n",
    " \n",
    " \n",
    "X_combined = np.vstack((X_train_full, X_test))\n",
    "y_combined = np.hstack((y_train_full, y_test))\n",
    " \n",
    " \n",
    "X_train, X_remaining, y_train, y_remaining = train_test_split(\n",
    "    X_combined, y_combined, test_size=0.2, random_state=42, stratify=y_combined\n",
    ")\n",
    " \n",
    "X_val, X_test, y_val, y_test = train_test_split(\n",
    "    X_remaining, y_remaining, test_size=0.5, random_state=42, stratify=y_remaining\n",
    ")\n",
    " \n",
    " \n",
    "print(f\"Training Data Shape: {X_train.shape}, Training Labels Shape: {y_train.shape}\")\n",
    "print(f\"Validation Data Shape: {X_val.shape}, Validation Labels Shape: {y_val.shape}\")\n",
    "print(f\"Test Data Shape: {X_test.shape}, Test Labels Shape: {y_test.shape}\")\n"
   ]
  },
  {
   "cell_type": "code",
   "execution_count": 14,
   "metadata": {},
   "outputs": [],
   "source": [
    "import numpy as np\n",
    "\n",
    "def distance_calc(X_train, X_test, distance_metric='euclidean'):\n",
    "    if distance_metric == 'euclidean':\n",
    "        a_squared = np.sum(X_train ** 2, axis = 1)\n",
    "        b_squared = np.sum(X_test ** 2, axis = 1).reshape(-1,1)\n",
    "\n",
    "        a_dot_b = X_test @ X_train.T\n",
    "        distances = np.sqrt(a_squared + b_squared - 2*a_dot_b)\n",
    "\n",
    "    return distances\n"
   ]
  },
  {
   "cell_type": "code",
   "execution_count": 17,
   "metadata": {},
   "outputs": [],
   "source": [
    "class KNNCustom:\n",
    "    def __init__(self,k):\n",
    "        self.k = k\n",
    "    \n",
    "    def predict(self,distance_matrix,y_train_labels):\n",
    "\n",
    "        predictions = []\n",
    "\n",
    "        for distances in distance_matrix:\n",
    "            nearest_indices = np.argsort(distances)[:self.k]\n",
    "            nearest_labels = y_train_labels[nearest_indices]\n",
    "            frequency_labels = Counter(nearest_labels)\n",
    "            winner = frequency_labels.most_common(1)[0][0]\n",
    "            predictions.append(winner)\n",
    "\n",
    "        return np.array(predictions)"
   ]
  },
  {
   "cell_type": "code",
   "execution_count": 18,
   "metadata": {},
   "outputs": [
    {
     "name": "stdout",
     "output_type": "stream",
     "text": [
      "Validation Accuracy: 97.19%\n",
      "Test Accuracy: 96.96%\n"
     ]
    }
   ],
   "source": [
    "distance_matrix_val = distance_calc(X_train, X_val, distance_metric='euclidean')\n",
    "distance_matrix_test = distance_calc(X_train, X_test, distance_metric='euclidean')\n",
    "\n",
    "knn = KNNCustom(k=5)\n",
    "\n",
    "y_val_pred = knn.predict(distance_matrix_val, y_train)\n",
    "y_test_pred = knn.predict(distance_matrix_test, y_train)\n",
    "\n",
    "accuracy_val = np.mean(y_val_pred == y_val)\n",
    "accuracy_test = np.mean(y_test_pred == y_test)\n",
    "\n",
    "print(f\"Validation Accuracy: {accuracy_val * 100:.2f}%\")\n",
    "print(f\"Test Accuracy: {accuracy_test * 100:.2f}%\")\n"
   ]
  },
  {
   "cell_type": "code",
   "execution_count": null,
   "metadata": {},
   "outputs": [],
   "source": []
  }
 ],
 "metadata": {
  "kernelspec": {
   "display_name": "MyEnv",
   "language": "python",
   "name": "python3"
  },
  "language_info": {
   "codemirror_mode": {
    "name": "ipython",
    "version": 3
   },
   "file_extension": ".py",
   "mimetype": "text/x-python",
   "name": "python",
   "nbconvert_exporter": "python",
   "pygments_lexer": "ipython3",
   "version": "3.13.1"
  }
 },
 "nbformat": 4,
 "nbformat_minor": 2
}
