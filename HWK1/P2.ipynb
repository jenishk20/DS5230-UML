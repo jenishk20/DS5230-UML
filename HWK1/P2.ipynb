{
 "cells": [
  {
   "cell_type": "code",
   "execution_count": 17,
   "metadata": {},
   "outputs": [],
   "source": [
    "import pandas as pd\n",
    "import requests"
   ]
  },
  {
   "cell_type": "code",
   "execution_count": null,
   "metadata": {},
   "outputs": [],
   "source": [
    "def fetch_file(url, local_filename):\n",
    "    with requests.get(url) as response:\n",
    "        response.raise_for_status()\n",
    "        with open(local_filename, 'wb') as f:\n",
    "            f.write(response.content)\n",
    "    print(f\"File downloaded successfully: {local_filename}\")"
   ]
  },
  {
   "cell_type": "code",
   "execution_count": 14,
   "metadata": {},
   "outputs": [],
   "source": [
    "def convert_to_sparse_arff(dat_file,output_file):\n",
    "    file = open(output_file, \"w\")\n",
    " \n",
    "    file.write(\"@RELATION itemset_dataset\\n\")\n",
    "    for i in range(0, 41270):\n",
    "        file.write(\"@ATTRIBUTE \" + str(i) + \" {0, 1}\\n\")\n",
    "    file.write(\"@DATA\\n\")\n",
    " \n",
    "    with open(dat_file) as f:\n",
    "        for line in f:\n",
    "            variables_list = sorted(set(map(int, line.strip().split())))\n",
    "            transaction = \"{\" + \", \".join(f\"{i - 1} 1\" for i in variables_list) + \"}\\n\"\n",
    "            file.write(transaction)\n",
    " \n",
    "    file.close()"
   ]
  },
  {
   "cell_type": "code",
   "execution_count": 15,
   "metadata": {},
   "outputs": [],
   "source": [
    "url = \"http://fimi.uantwerpen.be/data/kosarak.dat\"\n",
    "file_name = \"kosarak.dat\"\n",
    "output_file = \"kosarak.arff\"\n"
   ]
  },
  {
   "cell_type": "code",
   "execution_count": 16,
   "metadata": {},
   "outputs": [
    {
     "name": "stdout",
     "output_type": "stream",
     "text": [
      "File downloaded successfully: kosarak.dat\n"
     ]
    }
   ],
   "source": [
    "fetch_file(url,file_name)\n",
    "convert_to_sparse_arff(file_name,output_file)"
   ]
  },
  {
   "cell_type": "markdown",
   "metadata": {},
   "source": [
    "FPGrowth found 2 rules (displaying top 2)\n",
    " \n",
    "1. [10=1, 217=1, 147=1]: 50098 ==> [5=1]: 49866   <conf:(1)> lift:(1.64) lev:(0.02) conv:(84.4)\n",
    "2. [10=1, 147=1]: 55759 ==> [5=1]: 55230   <conf:(0.99)> lift:(1.63) lev:(0.02) conv:(41.3)"
   ]
  },
  {
   "cell_type": "markdown",
   "metadata": {},
   "source": [
    "Average Run Time : 8 seconds"
   ]
  },
  {
   "cell_type": "markdown",
   "metadata": {},
   "source": []
  }
 ],
 "metadata": {
  "kernelspec": {
   "display_name": "MyEnv",
   "language": "python",
   "name": "python3"
  },
  "language_info": {
   "codemirror_mode": {
    "name": "ipython",
    "version": 3
   },
   "file_extension": ".py",
   "mimetype": "text/x-python",
   "name": "python",
   "nbconvert_exporter": "python",
   "pygments_lexer": "ipython3",
   "version": "3.13.1"
  }
 },
 "nbformat": 4,
 "nbformat_minor": 2
}
