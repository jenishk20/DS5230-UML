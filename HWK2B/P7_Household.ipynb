{
 "cells": [
  {
   "cell_type": "code",
   "execution_count": 1,
   "metadata": {},
   "outputs": [],
   "source": [
    "from ucimlrepo import fetch_ucirepo \n",
    "import pandas as pd\n",
    "import matplotlib.pyplot as plt\n",
    "import numpy as np\n",
    "import seaborn as sns\n",
    "import math\n",
    "from sklearn.model_selection import train_test_split\n",
    "from sklearn.datasets import fetch_20newsgroups\n",
    "from collections import Counter,deque\n",
    "from sklearn.feature_extraction.text import TfidfVectorizer\n",
    "from sklearn.datasets import fetch_openml\n",
    "from collections import Counter\n",
    "from sklearn.preprocessing import MinMaxScaler\n",
    "from scipy.spatial.distance import cdist\n",
    "from sklearn.datasets import fetch_20newsgroups\n",
    "from sklearn.feature_extraction.text import TfidfVectorizer\n",
    "from sklearn.model_selection import train_test_split\n",
    "from sklearn.metrics import silhouette_score\n",
    "\n"
   ]
  },
  {
   "cell_type": "code",
   "execution_count": 2,
   "metadata": {},
   "outputs": [
    {
     "name": "stdout",
     "output_type": "stream",
     "text": [
      "The shape of the data is:  (2075259, 9)\n"
     ]
    },
    {
     "name": "stderr",
     "output_type": "stream",
     "text": [
      "/Users/jenishkothari/Northeastern/DS5230/HWK2B/myenv/lib/python3.13/site-packages/ucimlrepo/fetch.py:97: DtypeWarning: Columns (2,3,4,5,6,7) have mixed types. Specify dtype option on import or set low_memory=False.\n",
      "  df = pd.read_csv(data_url)\n"
     ]
    }
   ],
   "source": [
    "individual_household_electric_power_consumption = fetch_ucirepo(id=235) \n",
    "  \n",
    "X = individual_household_electric_power_consumption.data.features \n",
    "y = individual_household_electric_power_consumption.data.targets \n",
    "\n",
    "print(\"The shape of the data is: \",X.shape)"
   ]
  },
  {
   "cell_type": "code",
   "execution_count": 3,
   "metadata": {},
   "outputs": [],
   "source": [
    "class DBScanCustom:\n",
    "    def __init__(self,minPts,epsilon):\n",
    "        self.minPts = minPts\n",
    "        self.epsilon = epsilon\n",
    "        self.labels = None\n",
    "        self.dataset = None\n",
    "\n",
    "    def preProcessing(self,dataset):\n",
    "        distMatrix = cdist(dataset,dataset,metric='euclidean')       \n",
    "        data = []\n",
    "        for i in range(len(dataset)):\n",
    "            neighbors = [str(j) for j in range(len(dataset)) if i!=j and distMatrix[i][j] <= self.epsilon]\n",
    "            data.append([i] + [neighbors] + [len(neighbors)])\n",
    "        self.dataset = data\n",
    "\n",
    "    def expand(self,currPt,currClusterId):\n",
    "        self.labels[currPt] = currClusterId\n",
    "        queue = deque([currPt])\n",
    "        visited = set()\n",
    "\n",
    "        while queue:\n",
    "            inQueue = queue.popleft()\n",
    "            inQueueNeighborsCnt = self.dataset[inQueue][2]\n",
    "            visited.add(int(inQueue))\n",
    "\n",
    "            if inQueueNeighborsCnt>=self.minPts:\n",
    "                for n in self.dataset[inQueue][1]:\n",
    "                    n = int(n)\n",
    "                    if n in visited:\n",
    "                        continue\n",
    "                    if self.labels[n] == -1 and self.dataset[n][2] >= self.minPts:\n",
    "                        self.labels[n] = currClusterId\n",
    "                        queue.append(n)\n",
    "                    \n",
    "    def runDBSCAN(self,dataset):  \n",
    "        self.labels = [-1]*len(dataset)\n",
    "        startClusterId = 0\n",
    "        self.preProcessing(dataset)\n",
    " \n",
    "        for i in range(len(self.dataset)):\n",
    "            if self.labels[i] != -1:\n",
    "                continue\n",
    "            \n",
    "            neighbors = self.dataset[i][1]\n",
    "            if len(neighbors) >= self.minPts:\n",
    "                startClusterId += 1\n",
    "                self.expand(i,startClusterId)\n",
    "            \n",
    "        return self.labels"
   ]
  },
  {
   "cell_type": "code",
   "execution_count": 4,
   "metadata": {},
   "outputs": [
    {
     "name": "stdout",
     "output_type": "stream",
     "text": [
      "The shape of the data is:  (2075259, 7)\n",
      "         Global_active_power  Global_reactive_power  Voltage  \\\n",
      "0                      4.216                  0.418   234.84   \n",
      "1                      5.360                  0.436   233.63   \n",
      "2                      5.374                  0.498   233.29   \n",
      "3                      5.388                  0.502   233.74   \n",
      "4                      3.666                  0.528   235.68   \n",
      "...                      ...                    ...      ...   \n",
      "2075254                0.946                  0.000   240.43   \n",
      "2075255                0.944                  0.000   240.00   \n",
      "2075256                0.938                  0.000   239.82   \n",
      "2075257                0.934                  0.000   239.70   \n",
      "2075258                0.932                  0.000   239.55   \n",
      "\n",
      "         Global_intensity  Sub_metering_1  Sub_metering_2  Sub_metering_3  \n",
      "0                    18.4             0.0             1.0            17.0  \n",
      "1                    23.0             0.0             1.0            16.0  \n",
      "2                    23.0             0.0             2.0            17.0  \n",
      "3                    23.0             0.0             1.0            17.0  \n",
      "4                    15.8             0.0             1.0            17.0  \n",
      "...                   ...             ...             ...             ...  \n",
      "2075254               4.0             0.0             0.0             0.0  \n",
      "2075255               4.0             0.0             0.0             0.0  \n",
      "2075256               3.8             0.0             0.0             0.0  \n",
      "2075257               3.8             0.0             0.0             0.0  \n",
      "2075258               3.8             0.0             0.0             0.0  \n",
      "\n",
      "[2075259 rows x 7 columns]\n"
     ]
    }
   ],
   "source": [
    "X = pd.DataFrame(X)\n",
    "X = X.iloc[:, 2:]\n",
    "X = X.apply(pd.to_numeric, errors='coerce')\n",
    "print(\"The shape of the data is: \", X.shape)\n",
    "X = X.fillna(X.mean())\n",
    "\n",
    "print(X)"
   ]
  },
  {
   "cell_type": "code",
   "execution_count": 5,
   "metadata": {},
   "outputs": [],
   "source": [
    "subset_size = 20000\n",
    "indices = np.random.choice(len(X), subset_size, replace=False)\n",
    "X_subset = X.iloc[indices]\n",
    "dbscan = DBScanCustom(epsilon=2.5, minPts=13)\n",
    "labels = dbscan.runDBSCAN(X_subset)\n",
    "\n",
    "subset_df = pd.DataFrame(X.iloc[indices].copy())\n",
    "subset_df['cluster'] = labels"
   ]
  },
  {
   "cell_type": "code",
   "execution_count": 23,
   "metadata": {},
   "outputs": [
    {
     "data": {
      "text/plain": [
       "cluster\n",
       " 1    18532\n",
       "-1     1101\n",
       " 2      180\n",
       " 4      107\n",
       " 3       60\n",
       " 5       20\n",
       "Name: count, dtype: int64"
      ]
     },
     "execution_count": 23,
     "metadata": {},
     "output_type": "execute_result"
    }
   ],
   "source": [
    "subset_df['cluster'].value_counts()"
   ]
  },
  {
   "cell_type": "code",
   "execution_count": 24,
   "metadata": {},
   "outputs": [
    {
     "name": "stdout",
     "output_type": "stream",
     "text": [
      "Silhouette Score: 0.7146337318197404\n"
     ]
    }
   ],
   "source": [
    "import numpy as np\n",
    "\n",
    "valid_indices = np.where(np.array(labels) != -1)[0]\n",
    "\n",
    "X_valid = X_subset.iloc[valid_indices]\n",
    "\n",
    "labels_valid = np.array(labels)[valid_indices].flatten()\n",
    "\n",
    "if len(np.unique(labels_valid)) > 1:\n",
    "    score = silhouette_score(X_valid, labels_valid)\n",
    "    print(f\"Silhouette Score: {score}\")\n",
    "else:\n",
    "    print(\"Silhouette Score cannot be computed with less than 2 clusters.\")\n"
   ]
  },
  {
   "cell_type": "code",
   "execution_count": null,
   "metadata": {},
   "outputs": [],
   "source": []
  }
 ],
 "metadata": {
  "kernelspec": {
   "display_name": "myenv",
   "language": "python",
   "name": "python3"
  },
  "language_info": {
   "codemirror_mode": {
    "name": "ipython",
    "version": 3
   },
   "file_extension": ".py",
   "mimetype": "text/x-python",
   "name": "python",
   "nbconvert_exporter": "python",
   "pygments_lexer": "ipython3",
   "version": "3.13.1"
  }
 },
 "nbformat": 4,
 "nbformat_minor": 2
}
