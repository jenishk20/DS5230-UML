{
 "cells": [
  {
   "cell_type": "code",
   "execution_count": 1,
   "metadata": {},
   "outputs": [],
   "source": [
    "import pandas as pd\n",
    "import matplotlib.pyplot as plt\n",
    "import numpy as np\n",
    "import seaborn as sns\n",
    "import math\n",
    "from sklearn.model_selection import train_test_split\n",
    "from sklearn.datasets import fetch_20newsgroups\n",
    "from collections import Counter,deque\n",
    "from sklearn.feature_extraction.text import TfidfVectorizer\n",
    "from sklearn.datasets import fetch_openml\n",
    "from collections import Counter\n",
    "from sklearn.preprocessing import MinMaxScaler\n",
    "from scipy.spatial.distance import cdist\n"
   ]
  },
  {
   "cell_type": "code",
   "execution_count": 2,
   "metadata": {},
   "outputs": [
    {
     "name": "stdout",
     "output_type": "stream",
     "text": [
      "Training Data Shape: (56000, 784), Training Labels Shape: (56000,)\n",
      "Test Data Shape: (14000, 784), Test Labels Shape: (14000,)\n"
     ]
    }
   ],
   "source": [
    "fashion_mnist = fetch_openml('Fashion-MNIST', version=1)\n",
    "X = fashion_mnist.data.astype('float32')\n",
    "y = fashion_mnist.target.astype('int')\n",
    "\n",
    "\n",
    "X_train, X_test, y_train, y_test = train_test_split(\n",
    "    X, y, test_size=0.2, random_state=42, stratify=y\n",
    ")\n",
    "\n",
    "scaler = MinMaxScaler()\n",
    "X_train = scaler.fit_transform(X_train)\n",
    "X_test = scaler.transform(X_test) \n",
    "\n",
    "print(f\"Training Data Shape: {X_train.shape}, Training Labels Shape: {y_train.shape}\")\n",
    "print(f\"Test Data Shape: {X_test.shape}, Test Labels Shape: {y_test.shape}\")"
   ]
  },
  {
   "cell_type": "code",
   "execution_count": 3,
   "metadata": {},
   "outputs": [],
   "source": [
    "class DBScanCustom:\n",
    "    def __init__(self,minPts,epsilon):\n",
    "        self.minPts = minPts\n",
    "        self.epsilon = epsilon\n",
    "        self.labels = None\n",
    "        self.dataset = None\n",
    "\n",
    "    def preProcessing(self,dataset):\n",
    "        distMatrix = cdist(dataset,dataset,metric='euclidean')       \n",
    "        data = []\n",
    "        for i in range(len(dataset)):\n",
    "            neighbors = [str(j) for j in range(len(dataset)) if i!=j and distMatrix[i][j] <= self.epsilon]\n",
    "            data.append([i] + [neighbors] + [len(neighbors)])\n",
    "        self.dataset = data\n",
    "\n",
    "    def expand(self,currPt,currClusterId):\n",
    "        self.labels[currPt] = currClusterId\n",
    "        queue = deque([currPt])\n",
    "        visited = set()\n",
    "\n",
    "        while queue:\n",
    "            inQueue = queue.popleft()\n",
    "            inQueueNeighborsCnt = self.dataset[inQueue][2]\n",
    "            visited.add(int(inQueue))\n",
    "\n",
    "            if inQueueNeighborsCnt>=self.minPts:\n",
    "                for n in self.dataset[inQueue][1]:\n",
    "                    n = int(n)\n",
    "                    if n in visited:\n",
    "                        continue\n",
    "                    if self.labels[n] == -1 and self.dataset[n][2] >= self.minPts:\n",
    "                        self.labels[n] = currClusterId\n",
    "                        queue.append(n)\n",
    "                    \n",
    "    def runDBSCAN(self,dataset):  \n",
    "        self.labels = [-1]*len(dataset)\n",
    "        startClusterId = 0\n",
    "        self.preProcessing(dataset)\n",
    " \n",
    "        for i in range(len(self.dataset)):\n",
    "            if self.labels[i] != -1:\n",
    "                continue\n",
    "            neighbors = self.dataset[i][1]\n",
    "            if len(neighbors) >= self.minPts:\n",
    "                startClusterId += 1\n",
    "                self.expand(i,startClusterId)\n",
    "            \n",
    "        return self.labels\n",
    "        \n",
    "    "
   ]
  },
  {
   "cell_type": "code",
   "execution_count": 4,
   "metadata": {},
   "outputs": [],
   "source": [
    "subset_size = 20000\n",
    "indices = np.random.choice(len(X_train), subset_size, replace=False)\n",
    "X_subset = X_train[indices]\n",
    "\n",
    "dbscan = DBScanCustom(epsilon=4, minPts=17)\n",
    "labels = dbscan.runDBSCAN(X_subset)\n",
    "\n",
    "subset_df = pd.DataFrame(X_train[indices].copy())\n",
    "subset_df['cluster'] = labels"
   ]
  },
  {
   "cell_type": "code",
   "execution_count": 5,
   "metadata": {},
   "outputs": [
    {
     "data": {
      "text/plain": [
       "cluster\n",
       "-1    14901\n",
       " 1     5055\n",
       " 2       25\n",
       " 3       16\n",
       " 4        2\n",
       " 5        1\n",
       "Name: count, dtype: int64"
      ]
     },
     "execution_count": 5,
     "metadata": {},
     "output_type": "execute_result"
    }
   ],
   "source": [
    "subset_df['cluster'].value_counts()"
   ]
  },
  {
   "cell_type": "code",
   "execution_count": 14,
   "metadata": {},
   "outputs": [
    {
     "name": "stdout",
     "output_type": "stream",
     "text": [
      "Silhouette Score: 0.05161961540579796\n"
     ]
    }
   ],
   "source": [
    "import numpy as np\n",
    "from sklearn.metrics import silhouette_score\n",
    "\n",
    "valid_indices = np.where(np.array(labels) != -1)[0]\n",
    "\n",
    "X_valid = X_subset[valid_indices]\n",
    "\n",
    "labels_valid = np.array(labels)[valid_indices].flatten()\n",
    "\n",
    "if len(np.unique(labels_valid)) > 1:\n",
    "    score = silhouette_score(X_valid, labels_valid)\n",
    "    print(f\"Silhouette Score: {score}\")\n",
    "else:\n",
    "    print(\"Silhouette Score cannot be computed with less than 2 clusters.\")\n"
   ]
  },
  {
   "cell_type": "code",
   "execution_count": null,
   "metadata": {},
   "outputs": [],
   "source": []
  }
 ],
 "metadata": {
  "kernelspec": {
   "display_name": "myenv",
   "language": "python",
   "name": "python3"
  },
  "language_info": {
   "codemirror_mode": {
    "name": "ipython",
    "version": 3
   },
   "file_extension": ".py",
   "mimetype": "text/x-python",
   "name": "python",
   "nbconvert_exporter": "python",
   "pygments_lexer": "ipython3",
   "version": "3.13.1"
  }
 },
 "nbformat": 4,
 "nbformat_minor": 2
}
