{
 "cells": [
  {
   "cell_type": "code",
   "execution_count": 35,
   "id": "62ef5e1b-5116-4677-898d-eba6904074f2",
   "metadata": {},
   "outputs": [],
   "source": [
    "import pandas as pd\n",
    "import numpy as np\n",
    "import math\n",
    "from collections import deque\n",
    "import matplotlib.pyplot as plt\n",
    "from matplotlib.colors import ListedColormap\n",
    "import seaborn as sns"
   ]
  },
  {
   "cell_type": "code",
   "execution_count": 36,
   "id": "2e6ee0b8-a357-4efc-89d1-bdfaf4b8bcde",
   "metadata": {},
   "outputs": [
    {
     "data": {
      "text/html": [
       "<div>\n",
       "<style scoped>\n",
       "    .dataframe tbody tr th:only-of-type {\n",
       "        vertical-align: middle;\n",
       "    }\n",
       "\n",
       "    .dataframe tbody tr th {\n",
       "        vertical-align: top;\n",
       "    }\n",
       "\n",
       "    .dataframe thead th {\n",
       "        text-align: right;\n",
       "    }\n",
       "</style>\n",
       "<table border=\"1\" class=\"dataframe\">\n",
       "  <thead>\n",
       "    <tr style=\"text-align: right;\">\n",
       "      <th></th>\n",
       "      <th>cluster</th>\n",
       "      <th>pt</th>\n",
       "      <th>x</th>\n",
       "      <th>y</th>\n",
       "      <th>num_neighbors</th>\n",
       "      <th>neighbors</th>\n",
       "    </tr>\n",
       "  </thead>\n",
       "  <tbody>\n",
       "    <tr>\n",
       "      <th>0</th>\n",
       "      <td>NaN</td>\n",
       "      <td>0</td>\n",
       "      <td>51.418089</td>\n",
       "      <td>13.593610</td>\n",
       "      <td>2</td>\n",
       "      <td>0,27</td>\n",
       "    </tr>\n",
       "    <tr>\n",
       "      <th>1</th>\n",
       "      <td>NaN</td>\n",
       "      <td>1</td>\n",
       "      <td>39.132318</td>\n",
       "      <td>-4.419204</td>\n",
       "      <td>3</td>\n",
       "      <td>1,40,75</td>\n",
       "    </tr>\n",
       "    <tr>\n",
       "      <th>2</th>\n",
       "      <td>NaN</td>\n",
       "      <td>2</td>\n",
       "      <td>47.807515</td>\n",
       "      <td>-25.822561</td>\n",
       "      <td>1</td>\n",
       "      <td>2</td>\n",
       "    </tr>\n",
       "    <tr>\n",
       "      <th>3</th>\n",
       "      <td>NaN</td>\n",
       "      <td>3</td>\n",
       "      <td>27.699703</td>\n",
       "      <td>53.434193</td>\n",
       "      <td>1</td>\n",
       "      <td>3</td>\n",
       "    </tr>\n",
       "    <tr>\n",
       "      <th>4</th>\n",
       "      <td>NaN</td>\n",
       "      <td>4</td>\n",
       "      <td>39.860995</td>\n",
       "      <td>5.676871</td>\n",
       "      <td>3</td>\n",
       "      <td>4,56,75</td>\n",
       "    </tr>\n",
       "  </tbody>\n",
       "</table>\n",
       "</div>"
      ],
      "text/plain": [
       "   cluster  pt          x          y  num_neighbors neighbors\n",
       "0      NaN   0  51.418089  13.593610              2      0,27\n",
       "1      NaN   1  39.132318  -4.419204              3   1,40,75\n",
       "2      NaN   2  47.807515 -25.822561              1         2\n",
       "3      NaN   3  27.699703  53.434193              1         3\n",
       "4      NaN   4  39.860995   5.676871              3   4,56,75"
      ]
     },
     "execution_count": 36,
     "metadata": {},
     "output_type": "execute_result"
    }
   ],
   "source": [
    "data = pd.read_csv('dbscan.csv')\n",
    "\n",
    "data.head()"
   ]
  },
  {
   "cell_type": "code",
   "execution_count": 37,
   "id": "d2366999-ec63-4623-847a-871c059592a8",
   "metadata": {},
   "outputs": [
    {
     "name": "stdout",
     "output_type": "stream",
     "text": [
      "Number of datapoints :  80\n"
     ]
    },
    {
     "data": {
      "text/plain": [
       "<AxesSubplot:xlabel='x', ylabel='y'>"
      ]
     },
     "execution_count": 37,
     "metadata": {},
     "output_type": "execute_result"
    },
    {
     "data": {
      "image/png": "[encoded data removed]",
      "text/plain": [
       "<Figure size 432x288 with 1 Axes>"
      ]
     },
     "metadata": {
      "needs_background": "light"
     },
     "output_type": "display_data"
    }
   ],
   "source": [
    "dataPoints = data[['x','y','num_neighbors','neighbors']].values\n",
    "\n",
    "print(\"Number of datapoints : \", len(dataPoints))\n",
    "\n",
    "sns.scatterplot(x='x', y='y', hue='cluster', data=data, palette='Set1', marker='o', s=100, edgecolor='k')"
   ]
  },
  {
   "cell_type": "code",
   "execution_count": 38,
   "id": "27b26676-69d3-45cf-b6c0-61ecedeee63a",
   "metadata": {},
   "outputs": [
    {
     "data": {
      "text/plain": [
       "['0', '27']"
      ]
     },
     "execution_count": 38,
     "metadata": {},
     "output_type": "execute_result"
    }
   ],
   "source": [
    "dataPoints[0][3].split(',')"
   ]
  },
  {
   "cell_type": "code",
   "execution_count": 39,
   "id": "7d488128-ff51-42d0-88a8-5a8c4371c001",
   "metadata": {},
   "outputs": [],
   "source": [
    "class DBScanCustom:\n",
    "    def __init__(self,minPts,epsilon):\n",
    "        self.minPts = minPts\n",
    "        self.epsilon = epsilon\n",
    "        self.labels = None\n",
    "    \n",
    "    def expand(self,currPt,currClusterId,dataset):\n",
    "        self.labels[currPt] = currClusterId\n",
    "        queue = deque([currPt])\n",
    "        \n",
    "        while queue:\n",
    "            inQueue = queue.popleft()\n",
    "            inQueueNeighbors = dataset[inQueue][3].split(',')\n",
    "            \n",
    "            if len(inQueueNeighbors)>=self.minPts:\n",
    "                for n in inQueueNeighbors:\n",
    "                    n = int(n)\n",
    "                    if self.labels[n] == -1:\n",
    "                        self.labels[n] = currClusterId\n",
    "                    elif self.labels[n] == 0:\n",
    "                        self.labels[n] = currClusterId\n",
    "                        queue.append(n)\n",
    "            \n",
    "    def runDBScan(self,dataset):\n",
    "        \n",
    "        self.labels = [0]*len(dataset)\n",
    "        startClusterId = 0\n",
    "        \n",
    "        for i in range(len(dataset)):\n",
    "            \n",
    "            if self.labels[i] != 0:\n",
    "                continue\n",
    "            neighbors = dataset[i][3].split(',')\n",
    "            \n",
    "            if len(neighbors)<self.minPts:\n",
    "                self.labels[i] = -1\n",
    "            else:\n",
    "                startClusterId+=1\n",
    "                self.expand(i,startClusterId,dataset)\n",
    "        \n",
    "        return self.labels\n",
    "                \n",
    "         \n",
    "            "
   ]
  },
  {
   "cell_type": "code",
   "execution_count": 40,
   "id": "3ac858a8-cd53-46e4-ab18-12d096df52a6",
   "metadata": {},
   "outputs": [],
   "source": [
    "dbscan = DBScanCustom(epsilon = 7.5, minPts = 3)\n",
    "labels = dbscan.runDBScan(dataPoints)\n",
    "data['cluster'] = labels"
   ]
  },
  {
   "cell_type": "code",
   "execution_count": 41,
   "id": "9b04e769-cce2-4738-a412-ba38f8c0c6c4",
   "metadata": {},
   "outputs": [
    {
     "data": {
      "text/html": [
       "<div>\n",
       "<style scoped>\n",
       "    .dataframe tbody tr th:only-of-type {\n",
       "        vertical-align: middle;\n",
       "    }\n",
       "\n",
       "    .dataframe tbody tr th {\n",
       "        vertical-align: top;\n",
       "    }\n",
       "\n",
       "    .dataframe thead th {\n",
       "        text-align: right;\n",
       "    }\n",
       "</style>\n",
       "<table border=\"1\" class=\"dataframe\">\n",
       "  <thead>\n",
       "    <tr style=\"text-align: right;\">\n",
       "      <th></th>\n",
       "      <th>cluster</th>\n",
       "      <th>pt</th>\n",
       "      <th>x</th>\n",
       "      <th>y</th>\n",
       "      <th>num_neighbors</th>\n",
       "      <th>neighbors</th>\n",
       "    </tr>\n",
       "  </thead>\n",
       "  <tbody>\n",
       "    <tr>\n",
       "      <th>0</th>\n",
       "      <td>-1</td>\n",
       "      <td>0</td>\n",
       "      <td>51.418089</td>\n",
       "      <td>13.593610</td>\n",
       "      <td>2</td>\n",
       "      <td>0,27</td>\n",
       "    </tr>\n",
       "    <tr>\n",
       "      <th>1</th>\n",
       "      <td>1</td>\n",
       "      <td>1</td>\n",
       "      <td>39.132318</td>\n",
       "      <td>-4.419204</td>\n",
       "      <td>3</td>\n",
       "      <td>1,40,75</td>\n",
       "    </tr>\n",
       "    <tr>\n",
       "      <th>2</th>\n",
       "      <td>-1</td>\n",
       "      <td>2</td>\n",
       "      <td>47.807515</td>\n",
       "      <td>-25.822561</td>\n",
       "      <td>1</td>\n",
       "      <td>2</td>\n",
       "    </tr>\n",
       "    <tr>\n",
       "      <th>3</th>\n",
       "      <td>-1</td>\n",
       "      <td>3</td>\n",
       "      <td>27.699703</td>\n",
       "      <td>53.434193</td>\n",
       "      <td>1</td>\n",
       "      <td>3</td>\n",
       "    </tr>\n",
       "    <tr>\n",
       "      <th>4</th>\n",
       "      <td>1</td>\n",
       "      <td>4</td>\n",
       "      <td>39.860995</td>\n",
       "      <td>5.676871</td>\n",
       "      <td>3</td>\n",
       "      <td>4,56,75</td>\n",
       "    </tr>\n",
       "  </tbody>\n",
       "</table>\n",
       "</div>"
      ],
      "text/plain": [
       "   cluster  pt          x          y  num_neighbors neighbors\n",
       "0       -1   0  51.418089  13.593610              2      0,27\n",
       "1        1   1  39.132318  -4.419204              3   1,40,75\n",
       "2       -1   2  47.807515 -25.822561              1         2\n",
       "3       -1   3  27.699703  53.434193              1         3\n",
       "4        1   4  39.860995   5.676871              3   4,56,75"
      ]
     },
     "execution_count": 41,
     "metadata": {},
     "output_type": "execute_result"
    }
   ],
   "source": [
    "data.head()"
   ]
  },
  {
   "cell_type": "code",
   "execution_count": 42,
   "id": "6e19495a-7ae1-4c6d-abc6-0a7b895f8db9",
   "metadata": {},
   "outputs": [
    {
     "data": {
      "image/png": "[encoded data removed]",
      "text/plain": [
       "<Figure size 1080x432 with 1 Axes>"
      ]
     },
     "metadata": {
      "needs_background": "light"
     },
     "output_type": "display_data"
    }
   ],
   "source": [
    "plt.figure(figsize = (15,6))\n",
    "sns.scatterplot(data=data, x='x', y='y', hue='cluster', palette='Set1', marker='o', s=100, edgecolor='k', legend=\"full\")\n",
    "sns.scatterplot(data=data[data['cluster'] == -1], x='x', y='y', color='black', label='Noise', marker='x', s=100)\n",
    "plt.title(\"Cluster Classification\")\n",
    "plt.show()"
   ]
  },
  {
   "cell_type": "code",
   "execution_count": 43,
   "id": "460eb03c-c758-4caf-b5bd-7311f61e0f62",
   "metadata": {},
   "outputs": [
    {
     "data": {
      "text/plain": [
       " 2    43\n",
       "-1    26\n",
       " 1     8\n",
       " 3     3\n",
       "Name: cluster, dtype: int64"
      ]
     },
     "execution_count": 43,
     "metadata": {},
     "output_type": "execute_result"
    }
   ],
   "source": [
    "data['cluster'].value_counts()"
   ]
  },
  {
   "cell_type": "code",
   "execution_count": null,
   "id": "f4f2be29-2b84-4e87-9525-df9ed5b9b261",
   "metadata": {},
   "outputs": [],
   "source": []
  }
 ],
 "metadata": {
  "kernelspec": {
   "display_name": "Python 3 (ipykernel)",
   "language": "python",
   "name": "python3"
  },
  "language_info": {
   "codemirror_mode": {
    "name": "ipython",
    "version": 3
   },
   "file_extension": ".py",
   "mimetype": "text/x-python",
   "name": "python",
   "nbconvert_exporter": "python",
   "pygments_lexer": "ipython3",
   "version": "3.9.12"
  }
 },
 "nbformat": 4,
 "nbformat_minor": 5
}
