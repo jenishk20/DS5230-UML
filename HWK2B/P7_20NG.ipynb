{
 "cells": [
  {
   "cell_type": "code",
   "execution_count": 1,
   "metadata": {},
   "outputs": [],
   "source": [
    "import pandas as pd\n",
    "import matplotlib.pyplot as plt\n",
    "import numpy as np\n",
    "import seaborn as sns\n",
    "import math\n",
    "from sklearn.model_selection import train_test_split\n",
    "from sklearn.datasets import fetch_20newsgroups\n",
    "from collections import Counter,deque\n",
    "from sklearn.feature_extraction.text import TfidfVectorizer\n",
    "from sklearn.datasets import fetch_openml\n",
    "from collections import Counter\n",
    "from sklearn.preprocessing import MinMaxScaler\n",
    "from scipy.spatial.distance import cdist\n",
    "from sklearn.datasets import fetch_20newsgroups\n",
    "from sklearn.feature_extraction.text import TfidfVectorizer\n",
    "from sklearn.model_selection import train_test_split\n",
    "from sklearn.metrics import silhouette_score\n",
    "\n"
   ]
  },
  {
   "cell_type": "code",
   "execution_count": 2,
   "metadata": {},
   "outputs": [
    {
     "name": "stdout",
     "output_type": "stream",
     "text": [
      "Training Data Shape: (15076, 5000), Training Labels Shape: (15076,)\n",
      "Test Data Shape: (3770, 5000), Test Labels Shape: (3770,)\n"
     ]
    }
   ],
   "source": [
    "newsgroups = fetch_20newsgroups(subset='all', remove=('headers', 'footers', 'quotes'))\n",
    "\n",
    "X = newsgroups.data\n",
    "y = newsgroups.target\n",
    "\n",
    "vectorizer = TfidfVectorizer(stop_words='english', max_features=5000)\n",
    "X_tfidf = vectorizer.fit_transform(X)\n",
    "\n",
    "X_train, X_test, y_train, y_test = train_test_split(\n",
    "    X_tfidf, y, test_size=0.2, random_state=42, stratify=y\n",
    ")\n",
    "\n",
    "X_train = X_train.toarray()\n",
    "print(f\"Training Data Shape: {X_train.shape}, Training Labels Shape: {y_train.shape}\")\n",
    "print(f\"Test Data Shape: {X_test.shape}, Test Labels Shape: {y_test.shape}\")\n"
   ]
  },
  {
   "cell_type": "code",
   "execution_count": 11,
   "metadata": {},
   "outputs": [],
   "source": [
    "class DBScanCustom:\n",
    "    def __init__(self,minPts,epsilon):\n",
    "        self.minPts = minPts\n",
    "        self.epsilon = epsilon\n",
    "        self.labels = None\n",
    "        self.dataset = None\n",
    "\n",
    "    def preProcessing(self,dataset):\n",
    "        distMatrix = cdist(dataset,dataset,metric='euclidean') \n",
    "        data = []\n",
    "        for i in range(len(dataset)):\n",
    "            neighbors = [str(j) for j in range(len(dataset)) if i!=j and distMatrix[i][j] <= self.epsilon]\n",
    "            data.append([i] + [neighbors] + [len(neighbors)])\n",
    "        self.dataset = data\n",
    "        \n",
    "\n",
    "    def expand(self,currPt,currClusterId):\n",
    "\n",
    "        self.labels[currPt] = currClusterId\n",
    "        queue = deque([currPt])\n",
    "        visited = set()\n",
    "\n",
    "        while queue:\n",
    "            inQueue = queue.popleft()\n",
    "            inQueueNeighborsCnt = self.dataset[inQueue][2]\n",
    "            visited.add(int(inQueue))\n",
    "\n",
    "            if inQueueNeighborsCnt>=self.minPts:\n",
    "                for n in self.dataset[inQueue][1]:\n",
    "                    n = int(n)\n",
    "                    if n in visited:\n",
    "                        continue\n",
    "                    if self.labels[n] == -1 and self.dataset[n][2] >= self.minPts:\n",
    "                        self.labels[n] = currClusterId\n",
    "                        queue.append(n)\n",
    "                    \n",
    "    def runDBSCAN(self,dataset):  \n",
    "        self.labels = [-1]*len(dataset)\n",
    "        startClusterId = 0\n",
    "        self.preProcessing(dataset)\n",
    " \n",
    "        for i in range(len(self.dataset)):\n",
    "            if self.labels[i] != -1:\n",
    "                continue\n",
    "            \n",
    "            neighbors = self.dataset[i][1]\n",
    "            if len(neighbors) >= self.minPts:\n",
    "                startClusterId += 1\n",
    "                self.expand(i,startClusterId)\n",
    "            \n",
    "        return self.labels\n",
    "        \n",
    "    "
   ]
  },
  {
   "cell_type": "code",
   "execution_count": 14,
   "metadata": {},
   "outputs": [],
   "source": [
    "subset_size = 15000\n",
    "indices = np.random.choice(len(X_train), subset_size, replace=False)\n",
    "X_subset = X_train[indices]\n",
    "dbscan = DBScanCustom(epsilon=0.8, minPts=3)\n",
    "labels = dbscan.runDBSCAN(X_subset)\n",
    "\n",
    "subset_df = pd.DataFrame(X_train[indices].copy())\n",
    "subset_df['cluster'] = labels"
   ]
  },
  {
   "cell_type": "code",
   "execution_count": 15,
   "metadata": {},
   "outputs": [
    {
     "data": {
      "text/plain": [
       "cluster\n",
       "-1     14325\n",
       " 1       470\n",
       " 3        35\n",
       " 4        13\n",
       " 6        10\n",
       " 12        9\n",
       " 21        7\n",
       " 7         6\n",
       " 26        6\n",
       " 24        6\n",
       " 10        6\n",
       " 35        5\n",
       " 31        5\n",
       " 23        5\n",
       " 19        5\n",
       " 8         5\n",
       " 5         5\n",
       " 11        5\n",
       " 15        4\n",
       " 2         4\n",
       " 41        4\n",
       " 32        4\n",
       " 29        4\n",
       " 28        4\n",
       " 16        4\n",
       " 27        4\n",
       " 25        4\n",
       " 9         4\n",
       " 13        4\n",
       " 14        4\n",
       " 17        4\n",
       " 42        3\n",
       " 30        2\n",
       " 20        2\n",
       " 33        2\n",
       " 36        2\n",
       " 37        2\n",
       " 39        1\n",
       " 40        1\n",
       " 22        1\n",
       " 38        1\n",
       " 34        1\n",
       " 18        1\n",
       " 43        1\n",
       "Name: count, dtype: int64"
      ]
     },
     "execution_count": 15,
     "metadata": {},
     "output_type": "execute_result"
    }
   ],
   "source": [
    "subset_df['cluster'].value_counts()"
   ]
  },
  {
   "cell_type": "code",
   "execution_count": 16,
   "metadata": {},
   "outputs": [
    {
     "name": "stdout",
     "output_type": "stream",
     "text": [
      "Silhouette Score: 0.8336304560640431\n"
     ]
    }
   ],
   "source": [
    "import numpy as np\n",
    "\n",
    "valid_indices = np.where(np.array(labels) != -1)[0]\n",
    "\n",
    "X_valid = X_subset[valid_indices]\n",
    "X_valid = X_valid.reshape(-1, X_valid.shape[-1])\n",
    "\n",
    "labels_valid = np.array(labels)[valid_indices].flatten()\n",
    "\n",
    "if len(np.unique(labels_valid)) > 1:\n",
    "    score = silhouette_score(X_valid, labels_valid)\n",
    "    print(f\"Silhouette Score: {score}\")\n",
    "else:\n",
    "    print(\"Silhouette Score cannot be computed with less than 2 clusters.\")\n"
   ]
  },
  {
   "cell_type": "code",
   "execution_count": null,
   "metadata": {},
   "outputs": [],
   "source": [
    "import numpy as np\n",
    "import matplotlib.pyplot as plt\n",
    "from sklearn.decomposition import PCA"
   ]
  }
 ],
 "metadata": {
  "kernelspec": {
   "display_name": "myenv",
   "language": "python",
   "name": "python3"
  },
  "language_info": {
   "codemirror_mode": {
    "name": "ipython",
    "version": 3
   },
   "file_extension": ".py",
   "mimetype": "text/x-python",
   "name": "python",
   "nbconvert_exporter": "python",
   "pygments_lexer": "ipython3",
   "version": "3.13.1"
  }
 },
 "nbformat": 4,
 "nbformat_minor": 2
}
